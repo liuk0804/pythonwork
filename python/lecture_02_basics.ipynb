{
 "metadata": {
  "css": [
   ""
  ],
  "name": "",
  "signature": "sha256:73ddca222c502c6d3323407ef4a79d7355ce8f5bddb4447f81942445dc41f93a"
 },
 "nbformat": 3,
 "nbformat_minor": 0,
 "worksheets": [
  {
   "cells": [
    {
     "cell_type": "markdown",
     "metadata": {
      "slideshow": {
       "slide_type": "slide"
      }
     },
     "source": [
      "# Basics\n",
      "\n",
      "- Python files\n",
      "- `import` statement\n",
      "- Comments\n",
      "- Variables and data types\n",
      "- Type casting\n",
      "- Example: `scientific_hello_world.py`"
     ]
    },
    {
     "cell_type": "markdown",
     "metadata": {
      "slideshow": {
       "slide_type": "slide"
      }
     },
     "source": [
      "## Python Files"
     ]
    },
    {
     "cell_type": "markdown",
     "metadata": {},
     "source": [
      "* **Extension:** files end in `.py`\n",
      "    - Not strictly required\n",
      "    - e.g. `script.py`\n",
      "* **Execution:**\n",
      "    - CANOPY: play button\n",
      "    - IPython: `run script.py`\n",
      "    - Python terminal: `python script.py`"
     ]
    },
    {
     "cell_type": "markdown",
     "metadata": {
      "slideshow": {
       "slide_type": "slide"
      }
     },
     "source": [
      "## The `import` Statement"
     ]
    },
    {
     "cell_type": "markdown",
     "metadata": {},
     "source": [
      "- Python is made up of several modules. \n",
      "- Before you can use a module, you must `import` it."
     ]
    },
    {
     "cell_type": "code",
     "collapsed": false,
     "input": [
      "import math"
     ],
     "language": "python",
     "metadata": {},
     "outputs": [],
     "prompt_number": 1
    },
    {
     "cell_type": "markdown",
     "metadata": {},
     "source": [
      "Gives access to all functions and objects in the `math` module."
     ]
    },
    {
     "cell_type": "code",
     "collapsed": false,
     "input": [
      "print(math.pi)"
     ],
     "language": "python",
     "metadata": {},
     "outputs": [
      {
       "output_type": "stream",
       "stream": "stdout",
       "text": [
        "3.141592653589793\n"
       ]
      }
     ],
     "prompt_number": 3
    },
    {
     "cell_type": "code",
     "collapsed": false,
     "input": [
      "print(math.cos(10))"
     ],
     "language": "python",
     "metadata": {},
     "outputs": [
      {
       "output_type": "stream",
       "stream": "stdout",
       "text": [
        "-0.8390715290764524\n"
       ]
      }
     ],
     "prompt_number": 4
    },
    {
     "cell_type": "markdown",
     "metadata": {},
     "source": [
      "The prefix is helpful in avoiding name collision."
     ]
    },
    {
     "cell_type": "markdown",
     "metadata": {
      "slideshow": {
       "slide_type": "slide"
      }
     },
     "source": [
      "## Alternative `import`s"
     ]
    },
    {
     "cell_type": "markdown",
     "metadata": {},
     "source": [
      "Import all symbols so we no longer need the `math` prefix"
     ]
    },
    {
     "cell_type": "code",
     "collapsed": false,
     "input": [
      "from math import *\n",
      "\n",
      "print(pi)"
     ],
     "language": "python",
     "metadata": {},
     "outputs": [
      {
       "output_type": "stream",
       "stream": "stdout",
       "text": [
        "3.141592653589793\n"
       ]
      }
     ],
     "prompt_number": 5
    },
    {
     "cell_type": "markdown",
     "metadata": {},
     "source": [
      "Import select symbols"
     ]
    },
    {
     "cell_type": "code",
     "collapsed": false,
     "input": [
      "from math import pi, cos\n",
      "\n",
      "myvar = 1.4\n",
      "print(cos(myvar))"
     ],
     "language": "python",
     "metadata": {},
     "outputs": [
      {
       "output_type": "stream",
       "stream": "stdout",
       "text": [
        "0.169967142900241\n"
       ]
      }
     ],
     "prompt_number": 7
    },
    {
     "cell_type": "markdown",
     "metadata": {
      "slideshow": {
       "slide_type": "slide"
      }
     },
     "source": [
      "## What is available?"
     ]
    },
    {
     "cell_type": "code",
     "collapsed": false,
     "input": [
      "dir(math)"
     ],
     "language": "python",
     "metadata": {},
     "outputs": [
      {
       "metadata": {},
       "output_type": "pyout",
       "prompt_number": 8,
       "text": [
        "['__doc__',\n",
        " '__file__',\n",
        " '__loader__',\n",
        " '__name__',\n",
        " '__package__',\n",
        " 'acos',\n",
        " 'acosh',\n",
        " 'asin',\n",
        " 'asinh',\n",
        " 'atan',\n",
        " 'atan2',\n",
        " 'atanh',\n",
        " 'ceil',\n",
        " 'copysign',\n",
        " 'cos',\n",
        " 'cosh',\n",
        " 'degrees',\n",
        " 'e',\n",
        " 'erf',\n",
        " 'erfc',\n",
        " 'exp',\n",
        " 'expm1',\n",
        " 'fabs',\n",
        " 'factorial',\n",
        " 'floor',\n",
        " 'fmod',\n",
        " 'frexp',\n",
        " 'fsum',\n",
        " 'gamma',\n",
        " 'hypot',\n",
        " 'isfinite',\n",
        " 'isinf',\n",
        " 'isnan',\n",
        " 'ldexp',\n",
        " 'lgamma',\n",
        " 'log',\n",
        " 'log10',\n",
        " 'log1p',\n",
        " 'log2',\n",
        " 'modf',\n",
        " 'pi',\n",
        " 'pow',\n",
        " 'radians',\n",
        " 'sin',\n",
        " 'sinh',\n",
        " 'sqrt',\n",
        " 'tan',\n",
        " 'tanh',\n",
        " 'trunc']"
       ]
      }
     ],
     "prompt_number": 8
    },
    {
     "cell_type": "code",
     "collapsed": false,
     "input": [
      "help(math.cos)"
     ],
     "language": "python",
     "metadata": {},
     "outputs": [
      {
       "output_type": "stream",
       "stream": "stdout",
       "text": [
        "Help on built-in function cos in module math:\n",
        "\n",
        "cos(...)\n",
        "    cos(x)\n",
        "    \n",
        "    Return the cosine of x (measured in radians).\n",
        "\n"
       ]
      }
     ],
     "prompt_number": 10
    },
    {
     "cell_type": "markdown",
     "metadata": {},
     "source": [
      "Common imports:"
     ]
    },
    {
     "cell_type": "code",
     "collapsed": false,
     "input": [
      "import os, sys, math, shutil, re, subprocess"
     ],
     "language": "python",
     "metadata": {},
     "outputs": [],
     "prompt_number": 11
    },
    {
     "cell_type": "markdown",
     "metadata": {
      "slideshow": {
       "slide_type": "slide"
      }
     },
     "source": [
      "## Comments"
     ]
    },
    {
     "cell_type": "markdown",
     "metadata": {},
     "source": [
      "Every line of text in your file is considered python code uless it is preceeded by a `#` sign"
     ]
    },
    {
     "cell_type": "code",
     "collapsed": false,
     "input": [
      "# This is a comment\n",
      "# It's ignored by the python interpreter\n",
      "\n",
      "print(cos(pi)) # this is also ignored"
     ],
     "language": "python",
     "metadata": {},
     "outputs": [
      {
       "output_type": "stream",
       "stream": "stdout",
       "text": [
        "-1.0\n"
       ]
      }
     ],
     "prompt_number": 12
    },
    {
     "cell_type": "markdown",
     "metadata": {
      "slideshow": {
       "slide_type": "slide"
      }
     },
     "source": [
      "## Variables"
     ]
    },
    {
     "cell_type": "markdown",
     "metadata": {},
     "source": [
      "- Variable names in Python can contain:\n",
      "    - alphanumerical characters a-z, A-Z, 0-9\n",
      "    - Undescore _\n",
      "- Cannot be a `keyword`\n",
      "    \n",
      "        and, as, assert, break, class, continue, def, del, elif, else, except, \n",
      "        exec, finally, for, from, global, if, import, in, is, lambda, not, or,\n",
      "        pass, print, raise, return, try, while, with, yield\n",
      "        \n",
      "- Convension: names start with\n",
      "    - lowercase for variables\n",
      "    - Uppercase for objects\n",
      "    \n",
      "- The `=` character is assignment"
     ]
    },
    {
     "cell_type": "code",
     "collapsed": false,
     "input": [
      "x87_ = 10\n",
      "print(x87_)"
     ],
     "language": "python",
     "metadata": {},
     "outputs": [
      {
       "output_type": "stream",
       "stream": "stdout",
       "text": [
        "10\n"
       ]
      }
     ],
     "prompt_number": 13
    },
    {
     "cell_type": "markdown",
     "metadata": {
      "slideshow": {
       "slide_type": "slide"
      }
     },
     "source": [
      "## Data Types"
     ]
    },
    {
     "cell_type": "markdown",
     "metadata": {},
     "source": [
      "Dynamically typed language: Type is determined at assigment."
     ]
    },
    {
     "cell_type": "code",
     "collapsed": false,
     "input": [
      "a = 2\n",
      "b = 1e9\n",
      "c = False\n",
      "d = \"A string\""
     ],
     "language": "python",
     "metadata": {},
     "outputs": [],
     "prompt_number": 14
    },
    {
     "cell_type": "code",
     "collapsed": false,
     "input": [
      "print(type(a))\n",
      "print(type(b))\n",
      "print(type(c))\n",
      "print(type(d))"
     ],
     "language": "python",
     "metadata": {},
     "outputs": [
      {
       "output_type": "stream",
       "stream": "stdout",
       "text": [
        "<class 'int'>\n",
        "<class 'float'>\n",
        "<class 'bool'>\n",
        "<class 'str'>\n"
       ]
      }
     ],
     "prompt_number": 16
    },
    {
     "cell_type": "markdown",
     "metadata": {
      "slideshow": {
       "slide_type": "slide"
      }
     },
     "source": [
      "##Type Casting"
     ]
    },
    {
     "cell_type": "code",
     "collapsed": false,
     "input": [
      "print(a,b,c,d)"
     ],
     "language": "python",
     "metadata": {},
     "outputs": [
      {
       "output_type": "stream",
       "stream": "stdout",
       "text": [
        "2 1000000000.0 False A string\n"
       ]
      }
     ],
     "prompt_number": 17
    },
    {
     "cell_type": "code",
     "collapsed": false,
     "input": [
      "print(float(a))\n",
      "print(int(2.6))\n",
      "print(str(c))"
     ],
     "language": "python",
     "metadata": {},
     "outputs": [
      {
       "output_type": "stream",
       "stream": "stdout",
       "text": [
        "2.0\n",
        "2\n",
        "False\n"
       ]
      }
     ],
     "prompt_number": 18
    },
    {
     "cell_type": "code",
     "collapsed": false,
     "input": [
      "print(d, float(d))"
     ],
     "language": "python",
     "metadata": {},
     "outputs": [
      {
       "ename": "ValueError",
       "evalue": "could not convert string to float: 'A string'",
       "output_type": "pyerr",
       "traceback": [
        "\u001b[0;31m---------------------------------------------------------------------------\u001b[0m\n\u001b[0;31mValueError\u001b[0m                                Traceback (most recent call last)",
        "\u001b[0;32m<ipython-input-19-bf367135ff92>\u001b[0m in \u001b[0;36m<module>\u001b[0;34m()\u001b[0m\n\u001b[0;32m----> 1\u001b[0;31m \u001b[0mprint\u001b[0m\u001b[0;34m(\u001b[0m\u001b[0md\u001b[0m\u001b[0;34m,\u001b[0m \u001b[0mfloat\u001b[0m\u001b[0;34m(\u001b[0m\u001b[0md\u001b[0m\u001b[0;34m)\u001b[0m\u001b[0;34m)\u001b[0m\u001b[0;34m\u001b[0m\u001b[0m\n\u001b[0m",
        "\u001b[0;31mValueError\u001b[0m: could not convert string to float: 'A string'"
       ]
      }
     ],
     "prompt_number": 19
    },
    {
     "cell_type": "code",
     "collapsed": false,
     "input": [
      "print(float(\"24\"))"
     ],
     "language": "python",
     "metadata": {},
     "outputs": [
      {
       "output_type": "stream",
       "stream": "stdout",
       "text": [
        "24.0\n"
       ]
      }
     ],
     "prompt_number": 20
    },
    {
     "cell_type": "markdown",
     "metadata": {},
     "source": [
      "##`None`\n",
      "\n",
      "This is the null value type in Python."
     ]
    },
    {
     "cell_type": "code",
     "collapsed": false,
     "input": [
      "value = None\n",
      "print value"
     ],
     "language": "python",
     "metadata": {},
     "outputs": [
      {
       "output_type": "stream",
       "stream": "stdout",
       "text": [
        "None\n"
       ]
      }
     ],
     "prompt_number": 26
    },
    {
     "cell_type": "markdown",
     "metadata": {
      "slideshow": {
       "slide_type": "slide"
      }
     },
     "source": [
      "## Example: Scientific Hello World"
     ]
    },
    {
     "cell_type": "markdown",
     "metadata": {},
     "source": [
      "Create the `scientific_hello.py` file using `%%file` magic."
     ]
    },
    {
     "cell_type": "code",
     "collapsed": false,
     "input": [
      "%%file scientific_hello.py\n",
      "import sys, math\n",
      "r = float(sys.argv[1])\n",
      "s = math.sin(r)\n",
      "print(\"hello world!\", \"sin(\" , r, \") =\", s)"
     ],
     "language": "python",
     "metadata": {},
     "outputs": [
      {
       "output_type": "stream",
       "stream": "stdout",
       "text": [
        "Writing scientific_hello.py\n"
       ]
      }
     ],
     "prompt_number": 21
    },
    {
     "cell_type": "code",
     "collapsed": false,
     "input": [
      "!pwd\n"
     ],
     "language": "python",
     "metadata": {},
     "outputs": [
      {
       "output_type": "stream",
       "stream": "stdout",
       "text": [
        "/Users/nkahm/Projects/publicRepos/Meetup-Fall-2013/python\r\n"
       ]
      }
     ],
     "prompt_number": 22
    },
    {
     "cell_type": "markdown",
     "metadata": {},
     "source": [
      "Execute the script:"
     ]
    },
    {
     "cell_type": "code",
     "collapsed": false,
     "input": [
      "!python scientific_hello.py 3.14159"
     ],
     "language": "python",
     "metadata": {},
     "outputs": [
      {
       "output_type": "stream",
       "stream": "stdout",
       "text": [
        "hello world! sin( 3.14159 ) = 2.6535897933527304e-06\r\n"
       ]
      }
     ],
     "prompt_number": 26
    },
    {
     "cell_type": "markdown",
     "metadata": {},
     "source": [
      "- `sys.argv` is list of command line inputs\n",
      "- `sys.argv[1]` gets the string argument 30\n",
      "- casts it to a `float`\n",
      "- String concatentation `+`"
     ]
    }
   ],
   "metadata": {}
  }
 ]
}