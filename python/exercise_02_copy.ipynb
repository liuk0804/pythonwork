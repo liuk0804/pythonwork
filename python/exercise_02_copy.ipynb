{
 "metadata": {
  "css": [
   ""
  ],
  "name": ""
 },
 "nbformat": 3,
 "nbformat_minor": 0,
 "worksheets": [
  {
   "cells": [
    {
     "cell_type": "markdown",
     "metadata": {
      "slideshow": {
       "slide_type": "slide"
      }
     },
     "source": [
      "#Exercise: Copy"
     ]
    },
    {
     "cell_type": "markdown",
     "metadata": {},
     "source": [
      "Create a small script that copies one file to another. \n",
      "\n",
      "- How many lines of code do you need?  \n",
      "- Can you do it in one?\n",
      "- Is there an advantage?\n",
      "\n",
      "Taken from [www.learnpythonthehardway.org](http://learnpythonthehardway.org/book/ex17.html)"
     ]
    },
    {
     "cell_type": "markdown",
     "metadata": {},
     "source": [
      "## "
     ]
    }
   ],
   "metadata": {}
  }
 ]
}