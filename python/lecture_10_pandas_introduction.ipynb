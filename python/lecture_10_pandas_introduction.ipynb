{
 "metadata": {
  "css": [
   ""
  ],
  "name": ""
 },
 "nbformat": 3,
 "nbformat_minor": 0,
 "worksheets": [
  {
   "cells": [
    {
     "cell_type": "markdown",
     "metadata": {},
     "source": [
      "#Pandas"
     ]
    },
    {
     "cell_type": "code",
     "collapsed": false,
     "input": [
      "import pandas as pd"
     ],
     "language": "python",
     "metadata": {},
     "outputs": []
    },
    {
     "cell_type": "markdown",
     "metadata": {},
     "source": [
      "##Creating DataFrames\n",
      "\n",
      "The two important structures for `pandas` is the `Series` and the `DataFrame`.  Let's start with `DataFrame`s.  \n",
      "\n",
      "Data: a few lists"
     ]
    },
    {
     "cell_type": "code",
     "collapsed": false,
     "input": [
      "names = ['John', 'Matt', 'Sara', 'Jim', 'Ashley']\n",
      "ids = [ 23, 34, 83, 86, 12]\n",
      "balance = [10.2, 84.3, 72.9, 27.1, 223.1]"
     ],
     "language": "python",
     "metadata": {},
     "outputs": [],
     "prompt_number": 74
    },
    {
     "cell_type": "markdown",
     "metadata": {},
     "source": [
      "###Dictionaries"
     ]
    },
    {
     "cell_type": "code",
     "collapsed": false,
     "input": [
      "dic = {'ids': ids, 'names': names, 'bal':balance}\n",
      "\n",
      "users = pd.DataFrame(dic)\n",
      "print users"
     ],
     "language": "python",
     "metadata": {},
     "outputs": [
      {
       "output_type": "stream",
       "stream": "stdout",
       "text": [
        "     bal  ids   names\n",
        "0   10.2   23    John\n",
        "1   84.3   34    Matt\n",
        "2   72.9   83    Sara\n",
        "3   27.1   86     Jim\n",
        "4  223.1   12  Ashley\n"
       ]
      }
     ],
     "prompt_number": 75
    },
    {
     "cell_type": "code",
     "collapsed": false,
     "input": [
      "users = pd.DataFrame({'names': names, 'bal':balance}, index=ids)\n",
      "print users"
     ],
     "language": "python",
     "metadata": {},
     "outputs": [
      {
       "output_type": "stream",
       "stream": "stdout",
       "text": [
        "      bal   names\n",
        "23   10.2    John\n",
        "34   84.3    Matt\n",
        "83   72.9    Sara\n",
        "86   27.1     Jim\n",
        "12  223.1  Ashley\n"
       ]
      }
     ],
     "prompt_number": 53
    },
    {
     "cell_type": "markdown",
     "metadata": {},
     "source": [
      "Note: JSON format converts to a dictionary."
     ]
    },
    {
     "cell_type": "markdown",
     "metadata": {},
     "source": [
      "###Reading from a file\n",
      "\n",
      "This example uses the names datafiles from [Social Security Administration](http://www.ssa.gov/oact/babynames/limits.html) and is based on the examples in Wes Mickinney's book [Python for Data Analysis](http://shop.oreilly.com/product/0636920023784.do)"
     ]
    },
    {
     "cell_type": "code",
     "collapsed": false,
     "input": [
      "import os\n",
      "filename = os.path.join('data','names','yob1880.txt')\n",
      "print filename\n",
      "names = pd.read_csv(filename)\n",
      "print names.head(3) #First 3 items"
     ],
     "language": "python",
     "metadata": {},
     "outputs": [
      {
       "output_type": "stream",
       "stream": "stdout",
       "text": [
        "data/names/yob1880.txt\n",
        "        Mary  F  7065\n",
        "0       Anna  F  2604\n",
        "1       Emma  F  2003\n",
        "2  Elizabeth  F  1939\n"
       ]
      }
     ],
     "prompt_number": 12
    },
    {
     "cell_type": "code",
     "collapsed": false,
     "input": [
      "?pd.read_csv"
     ],
     "language": "python",
     "metadata": {},
     "outputs": []
    },
    {
     "cell_type": "markdown",
     "metadata": {},
     "source": [
      "If the file does not contain a header, then the names of the columns need to be passed as the **names** argument."
     ]
    },
    {
     "cell_type": "code",
     "collapsed": false,
     "input": [
      "names = pd.read_csv(filename, names=['name','gender','births'])\n",
      "print names.tail() # last items, 5 by default"
     ],
     "language": "python",
     "metadata": {},
     "outputs": [
      {
       "output_type": "stream",
       "stream": "stdout",
       "text": [
        "           name gender  births\n",
        "1995     Woodie      M       5\n",
        "1996     Worthy      M       5\n",
        "1997     Wright      M       5\n",
        "1998       York      M       5\n",
        "1999  Zachariah      M       5\n"
       ]
      }
     ],
     "prompt_number": 83
    },
    {
     "cell_type": "markdown",
     "metadata": {},
     "source": [
      "###Excel\n",
      "\n",
      "We'll come back to this data later."
     ]
    },
    {
     "cell_type": "code",
     "collapsed": false,
     "input": [
      "df = pd.read_excel('data/income_2012.xls', 'H02', skiprows=4)\n",
      "print df.head()"
     ],
     "language": "python",
     "metadata": {},
     "outputs": []
    },
    {
     "cell_type": "markdown",
     "metadata": {},
     "source": [
      "### Other methods\n",
      "\n",
      "You can also read from sql or hdf5 files."
     ]
    },
    {
     "cell_type": "markdown",
     "metadata": {},
     "source": [
      "##Selecting data\n",
      "\n",
      "There are several ways to access the row and column data.\n",
      "\n",
      "### Rows, the `ix` method"
     ]
    },
    {
     "cell_type": "code",
     "collapsed": false,
     "input": [
      "print names.ix[0]"
     ],
     "language": "python",
     "metadata": {},
     "outputs": [
      {
       "output_type": "stream",
       "stream": "stdout",
       "text": [
        "name      Mary\n",
        "gender       F\n",
        "births    7065\n",
        "Name: 0, dtype: object\n"
       ]
      }
     ],
     "prompt_number": 14
    },
    {
     "cell_type": "code",
     "collapsed": false,
     "input": [
      "print names.ix[0:2]"
     ],
     "language": "python",
     "metadata": {},
     "outputs": [
      {
       "output_type": "stream",
       "stream": "stdout",
       "text": [
        "   name gender  births\n",
        "0  Mary      F    7065\n",
        "1  Anna      F    2604\n",
        "2  Emma      F    2003\n"
       ]
      }
     ],
     "prompt_number": 15
    },
    {
     "cell_type": "code",
     "collapsed": false,
     "input": [
      "rows_a = [0,2,3]\n",
      "print names.ix[rows_a]"
     ],
     "language": "python",
     "metadata": {},
     "outputs": [
      {
       "output_type": "stream",
       "stream": "stdout",
       "text": [
        "        name gender  births\n",
        "0       Mary      F    7065\n",
        "2       Emma      F    2003\n",
        "3  Elizabeth      F    1939\n"
       ]
      }
     ],
     "prompt_number": 17
    },
    {
     "cell_type": "code",
     "collapsed": false,
     "input": [
      "print users"
     ],
     "language": "python",
     "metadata": {},
     "outputs": [
      {
       "output_type": "stream",
       "stream": "stdout",
       "text": [
        "      bal   names\n",
        "23   10.2    John\n",
        "34   84.3    Matt\n",
        "83   72.9    Sara\n",
        "86   27.1     Jim\n",
        "12  223.1  Ashley\n"
       ]
      }
     ],
     "prompt_number": 19
    },
    {
     "cell_type": "markdown",
     "metadata": {},
     "source": [
      "It's not the index **value** it's the index itself.  e.g."
     ]
    },
    {
     "cell_type": "code",
     "collapsed": false,
     "input": [
      "print users.ix[86]"
     ],
     "language": "python",
     "metadata": {},
     "outputs": [
      {
       "output_type": "stream",
       "stream": "stdout",
       "text": [
        "bal      27.1\n",
        "names     Jim\n",
        "Name: 86, dtype: object\n"
       ]
      }
     ],
     "prompt_number": 20
    },
    {
     "cell_type": "code",
     "collapsed": false,
     "input": [
      "print users.T.head()"
     ],
     "language": "python",
     "metadata": {},
     "outputs": [
      {
       "output_type": "stream",
       "stream": "stdout",
       "text": [
        "         23    34    83    86      12\n",
        "bal    10.2  84.3  72.9  27.1   223.1\n",
        "names  John  Matt  Sara   Jim  Ashley\n"
       ]
      }
     ],
     "prompt_number": 21
    },
    {
     "cell_type": "code",
     "collapsed": false,
     "input": [
      "print names"
     ],
     "language": "python",
     "metadata": {},
     "outputs": [
      {
       "output_type": "stream",
       "stream": "stdout",
       "text": [
        "<class 'pandas.core.frame.DataFrame'>\n",
        "Int64Index: 2000 entries, 0 to 1999\n",
        "Data columns (total 3 columns):\n",
        "name      2000  non-null values\n",
        "gender    2000  non-null values\n",
        "births    2000  non-null values\n",
        "dtypes: int64(1), object(2)\n"
       ]
      }
     ],
     "prompt_number": 33
    },
    {
     "cell_type": "markdown",
     "metadata": {},
     "source": [
      "###Column data"
     ]
    },
    {
     "cell_type": "code",
     "collapsed": false,
     "input": [
      "print users.ix[:,0].head()"
     ],
     "language": "python",
     "metadata": {},
     "outputs": []
    },
    {
     "cell_type": "code",
     "collapsed": false,
     "input": [
      "print names.ix[:,[2,1,0]].head()"
     ],
     "language": "python",
     "metadata": {},
     "outputs": []
    },
    {
     "cell_type": "markdown",
     "metadata": {},
     "source": [
      "Even better... grab them by name!"
     ]
    },
    {
     "cell_type": "code",
     "collapsed": false,
     "input": [
      "print users['names']"
     ],
     "language": "python",
     "metadata": {},
     "outputs": [
      {
       "output_type": "stream",
       "stream": "stdout",
       "text": [
        "23      John\n",
        "34      Matt\n",
        "83      Sara\n",
        "86       Jim\n",
        "12    Ashley\n",
        "Name: names, dtype: object\n"
       ]
      }
     ],
     "prompt_number": 38
    },
    {
     "cell_type": "markdown",
     "metadata": {},
     "source": [
      "Or use the `.` (dot) notation."
     ]
    },
    {
     "cell_type": "code",
     "collapsed": false,
     "input": [
      "print names['births'].head()"
     ],
     "language": "python",
     "metadata": {},
     "outputs": [
      {
       "output_type": "stream",
       "stream": "stdout",
       "text": [
        "0    7065\n",
        "1    2604\n",
        "2    2003\n",
        "3    1939\n",
        "4    1746\n",
        "Name: births, dtype: int64\n"
       ]
      }
     ],
     "prompt_number": 40
    },
    {
     "cell_type": "markdown",
     "metadata": {},
     "source": [
      "Mix and match"
     ]
    },
    {
     "cell_type": "code",
     "collapsed": false,
     "input": [
      "print names.ix[0:10,['gender','births']]"
     ],
     "language": "python",
     "metadata": {},
     "outputs": [
      {
       "output_type": "stream",
       "stream": "stdout",
       "text": [
        "   gender  births\n",
        "0       F    7065\n",
        "1       F    2604\n",
        "2       F    2003\n",
        "3       F    1939\n",
        "4       F    1746\n",
        "5       F    1578\n",
        "6       F    1472\n",
        "7       F    1414\n",
        "8       F    1320\n",
        "9       F    1288\n",
        "10      F    1258\n"
       ]
      }
     ],
     "prompt_number": 41
    },
    {
     "cell_type": "markdown",
     "metadata": {},
     "source": [
      "##Index objects"
     ]
    },
    {
     "cell_type": "code",
     "collapsed": false,
     "input": [
      "print users.index\n",
      "print users.index.values"
     ],
     "language": "python",
     "metadata": {},
     "outputs": [
      {
       "output_type": "stream",
       "stream": "stdout",
       "text": [
        "Int64Index([23, 34, 83, 86, 12], dtype=int64)\n",
        "[23 34 83 86 12]\n"
       ]
      }
     ],
     "prompt_number": 42
    },
    {
     "cell_type": "markdown",
     "metadata": {},
     "source": [
      "Several types, including:\n",
      "\n",
      "- MultiIndex\n",
      "- DatatimeIndex\n",
      "- PeriodIndex"
     ]
    },
    {
     "cell_type": "markdown",
     "metadata": {},
     "source": [
      "###reset_index"
     ]
    },
    {
     "cell_type": "code",
     "collapsed": false,
     "input": [
      "print users.head()"
     ],
     "language": "python",
     "metadata": {},
     "outputs": [
      {
       "output_type": "stream",
       "stream": "stdout",
       "text": [
        "   level_0  index    bal   names\n",
        "0        0     23   10.2    John\n",
        "1        1     34   84.3    Matt\n",
        "2        2     83   72.9    Sara\n",
        "3        3     86   27.1     Jim\n",
        "4        4     12  223.1  Ashley\n"
       ]
      }
     ],
     "prompt_number": 50
    },
    {
     "cell_type": "code",
     "collapsed": false,
     "input": [
      "print users.reset_index().head()"
     ],
     "language": "python",
     "metadata": {},
     "outputs": [
      {
       "output_type": "stream",
       "stream": "stdout",
       "text": [
        "   index    bal   names\n",
        "0     23   10.2    John\n",
        "1     34   84.3    Matt\n",
        "2     83   72.9    Sara\n",
        "3     86   27.1     Jim\n",
        "4     12  223.1  Ashley\n"
       ]
      }
     ],
     "prompt_number": 44
    },
    {
     "cell_type": "code",
     "collapsed": false,
     "input": [
      "print users.head()"
     ],
     "language": "python",
     "metadata": {},
     "outputs": [
      {
       "output_type": "stream",
       "stream": "stdout",
       "text": [
        "      bal   names\n",
        "23   10.2    John\n",
        "34   84.3    Matt\n",
        "83   72.9    Sara\n",
        "86   27.1     Jim\n",
        "12  223.1  Ashley\n"
       ]
      }
     ],
     "prompt_number": 45
    },
    {
     "cell_type": "code",
     "collapsed": false,
     "input": [
      "#users.reset_index(inplace=True)\n",
      "tmp = users.reset_index()\n",
      "print tmp.head()"
     ],
     "language": "python",
     "metadata": {},
     "outputs": [
      {
       "output_type": "stream",
       "stream": "stdout",
       "text": [
        "   index    bal   names\n",
        "0     23   10.2    John\n",
        "1     34   84.3    Matt\n",
        "2     83   72.9    Sara\n",
        "3     86   27.1     Jim\n",
        "4     12  223.1  Ashley\n"
       ]
      }
     ],
     "prompt_number": 54
    },
    {
     "cell_type": "markdown",
     "metadata": {},
     "source": [
      "###set_index"
     ]
    },
    {
     "cell_type": "code",
     "collapsed": false,
     "input": [
      "print users"
     ],
     "language": "python",
     "metadata": {},
     "outputs": [
      {
       "output_type": "stream",
       "stream": "stdout",
       "text": [
        "          bal\n",
        "names        \n",
        "John     10.2\n",
        "Matt     84.3\n",
        "Sara     72.9\n",
        "Jim      27.1\n",
        "Ashley  223.1\n"
       ]
      }
     ],
     "prompt_number": 72
    },
    {
     "cell_type": "code",
     "collapsed": false,
     "input": [
      "users = users.set_index('names')"
     ],
     "language": "python",
     "metadata": {},
     "outputs": [],
     "prompt_number": 66
    },
    {
     "cell_type": "code",
     "collapsed": false,
     "input": [
      "print users"
     ],
     "language": "python",
     "metadata": {},
     "outputs": [
      {
       "output_type": "stream",
       "stream": "stdout",
       "text": [
        "          bal\n",
        "names        \n",
        "John     10.2\n",
        "Matt     84.3\n",
        "Sara     72.9\n",
        "Jim      27.1\n",
        "Ashley  223.1\n"
       ]
      }
     ],
     "prompt_number": 71
    },
    {
     "cell_type": "markdown",
     "metadata": {},
     "source": [
      "##Essentials"
     ]
    },
    {
     "cell_type": "markdown",
     "metadata": {},
     "source": [
      "### Deleting data with `drop`"
     ]
    },
    {
     "cell_type": "code",
     "collapsed": false,
     "input": [
      "new_users = users.copy()\n",
      "new_users.set_index('ids', inplace=True)\n",
      "print new_users"
     ],
     "language": "python",
     "metadata": {},
     "outputs": [
      {
       "output_type": "stream",
       "stream": "stdout",
       "text": [
        "       bal   names\n",
        "ids               \n",
        "23    10.2    John\n",
        "34    84.3    Matt\n",
        "83    72.9    Sara\n",
        "86    27.1     Jim\n",
        "12   223.1  Ashley\n"
       ]
      }
     ],
     "prompt_number": 78
    },
    {
     "cell_type": "code",
     "collapsed": false,
     "input": [
      "new_users = new_users.drop(83)\n",
      "print new_users"
     ],
     "language": "python",
     "metadata": {},
     "outputs": [
      {
       "output_type": "stream",
       "stream": "stdout",
       "text": [
        "       bal   names\n",
        "ids               \n",
        "23    10.2    John\n",
        "34    84.3    Matt\n",
        "86    27.1     Jim\n",
        "12   223.1  Ashley\n"
       ]
      }
     ],
     "prompt_number": 79
    },
    {
     "cell_type": "code",
     "collapsed": false,
     "input": [
      "new_users = users.drop('bal', axis=1)\n",
      "print new_users"
     ],
     "language": "python",
     "metadata": {},
     "outputs": [
      {
       "output_type": "stream",
       "stream": "stdout",
       "text": [
        "   ids   names\n",
        "0   23    John\n",
        "1   34    Matt\n",
        "2   83    Sara\n",
        "3   86     Jim\n",
        "4   12  Ashley\n"
       ]
      }
     ],
     "prompt_number": 80
    },
    {
     "cell_type": "code",
     "collapsed": false,
     "input": [
      "print users[['names', 'bal']]"
     ],
     "language": "python",
     "metadata": {},
     "outputs": []
    },
    {
     "cell_type": "markdown",
     "metadata": {},
     "source": [
      "###Filtering"
     ]
    },
    {
     "cell_type": "code",
     "collapsed": false,
     "input": [
      "print users.bal > 30.0\n",
      "tmp = users.bal > 30.0\n",
      "print tmp.values"
     ],
     "language": "python",
     "metadata": {},
     "outputs": [
      {
       "output_type": "stream",
       "stream": "stdout",
       "text": [
        "0    False\n",
        "1     True\n",
        "2     True\n",
        "3    False\n",
        "4     True\n",
        "Name: bal, dtype: bool\n",
        "[False  True  True False  True]\n"
       ]
      }
     ],
     "prompt_number": 81
    },
    {
     "cell_type": "code",
     "collapsed": false,
     "input": [
      "print users[np.array(tmp.values)].head()"
     ],
     "language": "python",
     "metadata": {},
     "outputs": []
    },
    {
     "cell_type": "code",
     "collapsed": false,
     "input": [
      "print names[names.gender == 'F'].head()"
     ],
     "language": "python",
     "metadata": {},
     "outputs": [
      {
       "output_type": "stream",
       "stream": "stdout",
       "text": [
        "        name gender  births\n",
        "0       Mary      F    7065\n",
        "1       Anna      F    2604\n",
        "2       Emma      F    2003\n",
        "3  Elizabeth      F    1939\n",
        "4     Minnie      F    1746\n"
       ]
      }
     ],
     "prompt_number": 84
    },
    {
     "cell_type": "code",
     "collapsed": false,
     "input": [
      "print names.ix[names.gender == 'F',['name','births']].head()"
     ],
     "language": "python",
     "metadata": {},
     "outputs": [
      {
       "output_type": "stream",
       "stream": "stdout",
       "text": [
        "        name  births\n",
        "0       Mary    7065\n",
        "1       Anna    2604\n",
        "2       Emma    2003\n",
        "3  Elizabeth    1939\n",
        "4     Minnie    1746\n"
       ]
      }
     ],
     "prompt_number": 85
    },
    {
     "cell_type": "code",
     "collapsed": false,
     "input": [
      "mask1 = names.gender == 'M'\n",
      "mask2 = names.births > 2000"
     ],
     "language": "python",
     "metadata": {},
     "outputs": [],
     "prompt_number": 86
    },
    {
     "cell_type": "code",
     "collapsed": false,
     "input": [
      "print names[(mask1) | (mask2)].head()"
     ],
     "language": "python",
     "metadata": {},
     "outputs": [
      {
       "output_type": "stream",
       "stream": "stdout",
       "text": [
        "        name gender  births\n",
        "0       Mary      F    7065\n",
        "1       Anna      F    2604\n",
        "2       Emma      F    2003\n",
        "942     John      M    9655\n",
        "943  William      M    9533\n"
       ]
      }
     ],
     "prompt_number": 88
    },
    {
     "cell_type": "markdown",
     "metadata": {},
     "source": [
      "and `&`, or `|`, not `~`"
     ]
    },
    {
     "cell_type": "code",
     "collapsed": false,
     "input": [
      "print names[::2].head()"
     ],
     "language": "python",
     "metadata": {},
     "outputs": [
      {
       "output_type": "stream",
       "stream": "stdout",
       "text": [
        "     name gender  births\n",
        "0    Mary      F    7065\n",
        "2    Emma      F    2003\n",
        "4  Minnie      F    1746\n",
        "6     Ida      F    1472\n",
        "8  Bertha      F    1320\n"
       ]
      }
     ],
     "prompt_number": 89
    },
    {
     "cell_type": "markdown",
     "metadata": {},
     "source": [
      "###Sorting"
     ]
    },
    {
     "cell_type": "markdown",
     "metadata": {},
     "source": [
      "Sort either index"
     ]
    },
    {
     "cell_type": "code",
     "collapsed": false,
     "input": [
      "print names.sort_index(ascending=False).head()"
     ],
     "language": "python",
     "metadata": {},
     "outputs": [
      {
       "output_type": "stream",
       "stream": "stdout",
       "text": [
        "           name gender  births\n",
        "1999  Zachariah      M       5\n",
        "1998       York      M       5\n",
        "1997     Wright      M       5\n",
        "1996     Worthy      M       5\n",
        "1995     Woodie      M       5\n"
       ]
      }
     ],
     "prompt_number": 92
    },
    {
     "cell_type": "code",
     "collapsed": false,
     "input": [
      "print names.sort_index(axis=1).head()"
     ],
     "language": "python",
     "metadata": {},
     "outputs": [
      {
       "output_type": "stream",
       "stream": "stdout",
       "text": [
        "   births gender       name\n",
        "0    7065      F       Mary\n",
        "1    2604      F       Anna\n",
        "2    2003      F       Emma\n",
        "3    1939      F  Elizabeth\n",
        "4    1746      F     Minnie\n"
       ]
      }
     ],
     "prompt_number": 93
    },
    {
     "cell_type": "markdown",
     "metadata": {},
     "source": [
      "Sort the data"
     ]
    },
    {
     "cell_type": "code",
     "collapsed": false,
     "input": [
      "print users.sort('names').head()"
     ],
     "language": "python",
     "metadata": {},
     "outputs": [
      {
       "output_type": "stream",
       "stream": "stdout",
       "text": [
        "     bal  ids   names\n",
        "4  223.1   12  Ashley\n",
        "3   27.1   86     Jim\n",
        "0   10.2   23    John\n",
        "1   84.3   34    Matt\n",
        "2   72.9   83    Sara\n"
       ]
      }
     ],
     "prompt_number": 94
    },
    {
     "cell_type": "code",
     "collapsed": false,
     "input": [
      "print names.sort(['births','name'], ascending=[False,True]).head()"
     ],
     "language": "python",
     "metadata": {},
     "outputs": [
      {
       "output_type": "stream",
       "stream": "stdout",
       "text": [
        "        name gender  births\n",
        "942     John      M    9655\n",
        "943  William      M    9533\n",
        "0       Mary      F    7065\n",
        "944    James      M    5927\n",
        "945  Charles      M    5348\n"
       ]
      }
     ],
     "prompt_number": 95
    },
    {
     "cell_type": "markdown",
     "metadata": {},
     "source": [
      "What are the top 10 names in 1880?"
     ]
    },
    {
     "cell_type": "code",
     "collapsed": false,
     "input": [
      "print names.sort('births').tail(10)"
     ],
     "language": "python",
     "metadata": {},
     "outputs": [
      {
       "output_type": "stream",
       "stream": "stdout",
       "text": [
        "        name gender  births\n",
        "949   Thomas      M    2534\n",
        "1       Anna      F    2604\n",
        "948   Joseph      M    2632\n",
        "947    Frank      M    3242\n",
        "946   George      M    5126\n",
        "945  Charles      M    5348\n",
        "944    James      M    5927\n",
        "0       Mary      F    7065\n",
        "943  William      M    9533\n",
        "942     John      M    9655\n"
       ]
      }
     ],
     "prompt_number": 96
    },
    {
     "cell_type": "code",
     "collapsed": false,
     "input": [
      "print names[names['gender'] =='F'].sort('births', ascending=False).head(10)"
     ],
     "language": "python",
     "metadata": {},
     "outputs": [
      {
       "output_type": "stream",
       "stream": "stdout",
       "text": [
        "        name gender  births\n",
        "0       Mary      F    7065\n",
        "1       Anna      F    2604\n",
        "2       Emma      F    2003\n",
        "3  Elizabeth      F    1939\n",
        "4     Minnie      F    1746\n",
        "5   Margaret      F    1578\n",
        "6        Ida      F    1472\n",
        "7      Alice      F    1414\n",
        "8     Bertha      F    1320\n",
        "9      Sarah      F    1288\n"
       ]
      }
     ],
     "prompt_number": 100
    },
    {
     "cell_type": "markdown",
     "metadata": {},
     "source": [
      "## Missing data"
     ]
    },
    {
     "cell_type": "markdown",
     "metadata": {},
     "source": [
      "Data from Roger Peng [Coursera](https://www.coursera.org) class [Computing for Data Analysis](https://www.coursera.org/course/compdata)."
     ]
    },
    {
     "cell_type": "code",
     "collapsed": false,
     "input": [
      "data = pd.read_csv(os.path.join('data', 'hw1_data.csv'))\n",
      "print data.head(10)"
     ],
     "language": "python",
     "metadata": {},
     "outputs": [
      {
       "output_type": "stream",
       "stream": "stdout",
       "text": [
        "   Ozone  Solar.R  Wind  Temp  Month  Day\n",
        "0     41      190   7.4    67      5    1\n",
        "1     36      118   8.0    72      5    2\n",
        "2     12      149  12.6    74      5    3\n",
        "3     18      313  11.5    62      5    4\n",
        "4    NaN      NaN  14.3    56      5    5\n",
        "5     28      NaN  14.9    66      5    6\n",
        "6     23      299   8.6    65      5    7\n",
        "7     19       99  13.8    59      5    8\n",
        "8      8       19  20.1    61      5    9\n",
        "9    NaN      194   8.6    69      5   10\n"
       ]
      }
     ],
     "prompt_number": 144
    },
    {
     "cell_type": "code",
     "collapsed": false,
     "input": [
      "print len(data)"
     ],
     "language": "python",
     "metadata": {},
     "outputs": [
      {
       "output_type": "stream",
       "stream": "stdout",
       "text": [
        "153\n"
       ]
      }
     ],
     "prompt_number": 145
    },
    {
     "cell_type": "markdown",
     "metadata": {},
     "source": [
      "Drop any row with one or more `NaN`"
     ]
    },
    {
     "cell_type": "code",
     "collapsed": false,
     "input": [
      "print len(data.dropna())\n",
      "# help(data.dropna)"
     ],
     "language": "python",
     "metadata": {},
     "outputs": [
      {
       "output_type": "stream",
       "stream": "stdout",
       "text": [
        "111\n"
       ]
      }
     ],
     "prompt_number": 104
    },
    {
     "cell_type": "code",
     "collapsed": false,
     "input": [
      "print data[data!=299].dropna().head(10)"
     ],
     "language": "python",
     "metadata": {},
     "outputs": [
      {
       "output_type": "stream",
       "stream": "stdout",
       "text": [
        "    Ozone  Solar.R  Wind  Temp  Month  Day\n",
        "0      41      190   7.4    67      5    1\n",
        "1      36      118   8.0    72      5    2\n",
        "2      12      149  12.6    74      5    3\n",
        "3      18      313  11.5    62      5    4\n",
        "7      19       99  13.8    59      5    8\n",
        "8       8       19  20.1    61      5    9\n",
        "11     16      256   9.7    69      5   12\n",
        "12     11      290   9.2    66      5   13\n",
        "13     14      274  10.9    68      5   14\n",
        "14     18       65  13.2    58      5   15\n"
       ]
      }
     ],
     "prompt_number": 146
    },
    {
     "cell_type": "markdown",
     "metadata": {},
     "source": [
      "Check for `null` values for a column."
     ]
    },
    {
     "cell_type": "code",
     "collapsed": false,
     "input": [
      "print data['Solar.R'].isnull().head()"
     ],
     "language": "python",
     "metadata": {},
     "outputs": [
      {
       "output_type": "stream",
       "stream": "stdout",
       "text": [
        "0    False\n",
        "1    False\n",
        "2    False\n",
        "3    False\n",
        "4     True\n",
        "Name: Solar.R, dtype: bool\n"
       ]
      }
     ],
     "prompt_number": 147
    },
    {
     "cell_type": "code",
     "collapsed": false,
     "input": [
      "print data['Solar.R'].notnull().head()"
     ],
     "language": "python",
     "metadata": {},
     "outputs": []
    },
    {
     "cell_type": "markdown",
     "metadata": {},
     "source": [
      "Filling in missing values with `fillna()`."
     ]
    },
    {
     "cell_type": "code",
     "collapsed": false,
     "input": [
      "print data['Solar.R'].fillna(0).head()"
     ],
     "language": "python",
     "metadata": {},
     "outputs": [
      {
       "output_type": "stream",
       "stream": "stdout",
       "text": [
        "0    190\n",
        "1    118\n",
        "2    149\n",
        "3    313\n",
        "4      0\n",
        "Name: Solar.R, dtype: float64\n"
       ]
      }
     ],
     "prompt_number": 118
    },
    {
     "cell_type": "markdown",
     "metadata": {},
     "source": [
      "Several methods parameters for `fillna`.\n",
      "\n",
      "    ffill, limits, inplace, axiz, value"
     ]
    },
    {
     "cell_type": "markdown",
     "metadata": {},
     "source": [
      "##Summarizing and describing"
     ]
    },
    {
     "cell_type": "code",
     "collapsed": false,
     "input": [
      "data.describe()"
     ],
     "language": "python",
     "metadata": {},
     "outputs": [
      {
       "html": [
        "<div style=\"max-height:1000px;max-width:1500px;overflow:auto;\">\n",
        "<table border=\"1\" class=\"dataframe\">\n",
        "  <thead>\n",
        "    <tr style=\"text-align: right;\">\n",
        "      <th></th>\n",
        "      <th>Ozone</th>\n",
        "      <th>Solar.R</th>\n",
        "      <th>Wind</th>\n",
        "      <th>Temp</th>\n",
        "      <th>Month</th>\n",
        "      <th>Day</th>\n",
        "    </tr>\n",
        "  </thead>\n",
        "  <tbody>\n",
        "    <tr>\n",
        "      <th>count</th>\n",
        "      <td> 116.000000</td>\n",
        "      <td> 146.000000</td>\n",
        "      <td> 153.000000</td>\n",
        "      <td> 153.000000</td>\n",
        "      <td> 153.000000</td>\n",
        "      <td> 153.000000</td>\n",
        "    </tr>\n",
        "    <tr>\n",
        "      <th>mean</th>\n",
        "      <td>  42.129310</td>\n",
        "      <td> 185.931507</td>\n",
        "      <td>   9.957516</td>\n",
        "      <td>  77.882353</td>\n",
        "      <td>   6.993464</td>\n",
        "      <td>  15.803922</td>\n",
        "    </tr>\n",
        "    <tr>\n",
        "      <th>std</th>\n",
        "      <td>  32.987885</td>\n",
        "      <td>  90.058422</td>\n",
        "      <td>   3.523001</td>\n",
        "      <td>   9.465270</td>\n",
        "      <td>   1.416522</td>\n",
        "      <td>   8.864520</td>\n",
        "    </tr>\n",
        "    <tr>\n",
        "      <th>min</th>\n",
        "      <td>   1.000000</td>\n",
        "      <td>   7.000000</td>\n",
        "      <td>   1.700000</td>\n",
        "      <td>  56.000000</td>\n",
        "      <td>   5.000000</td>\n",
        "      <td>   1.000000</td>\n",
        "    </tr>\n",
        "    <tr>\n",
        "      <th>25%</th>\n",
        "      <td>  18.000000</td>\n",
        "      <td> 115.750000</td>\n",
        "      <td>   7.400000</td>\n",
        "      <td>  72.000000</td>\n",
        "      <td>   6.000000</td>\n",
        "      <td>   8.000000</td>\n",
        "    </tr>\n",
        "    <tr>\n",
        "      <th>50%</th>\n",
        "      <td>  31.500000</td>\n",
        "      <td> 205.000000</td>\n",
        "      <td>   9.700000</td>\n",
        "      <td>  79.000000</td>\n",
        "      <td>   7.000000</td>\n",
        "      <td>  16.000000</td>\n",
        "    </tr>\n",
        "    <tr>\n",
        "      <th>75%</th>\n",
        "      <td>  63.250000</td>\n",
        "      <td> 258.750000</td>\n",
        "      <td>  11.500000</td>\n",
        "      <td>  85.000000</td>\n",
        "      <td>   8.000000</td>\n",
        "      <td>  23.000000</td>\n",
        "    </tr>\n",
        "    <tr>\n",
        "      <th>max</th>\n",
        "      <td> 168.000000</td>\n",
        "      <td> 334.000000</td>\n",
        "      <td>  20.700000</td>\n",
        "      <td>  97.000000</td>\n",
        "      <td>   9.000000</td>\n",
        "      <td>  31.000000</td>\n",
        "    </tr>\n",
        "  </tbody>\n",
        "</table>\n",
        "</div>"
       ],
       "metadata": {},
       "output_type": "pyout",
       "prompt_number": 120,
       "text": [
        "            Ozone     Solar.R        Wind        Temp       Month         Day\n",
        "count  116.000000  146.000000  153.000000  153.000000  153.000000  153.000000\n",
        "mean    42.129310  185.931507    9.957516   77.882353    6.993464   15.803922\n",
        "std     32.987885   90.058422    3.523001    9.465270    1.416522    8.864520\n",
        "min      1.000000    7.000000    1.700000   56.000000    5.000000    1.000000\n",
        "25%     18.000000  115.750000    7.400000   72.000000    6.000000    8.000000\n",
        "50%     31.500000  205.000000    9.700000   79.000000    7.000000   16.000000\n",
        "75%     63.250000  258.750000   11.500000   85.000000    8.000000   23.000000\n",
        "max    168.000000  334.000000   20.700000   97.000000    9.000000   31.000000"
       ]
      }
     ],
     "prompt_number": 120
    },
    {
     "cell_type": "code",
     "collapsed": false,
     "input": [
      "?data.describe"
     ],
     "language": "python",
     "metadata": {},
     "outputs": [],
     "prompt_number": 121
    },
    {
     "cell_type": "code",
     "collapsed": false,
     "input": [
      "print data.count()"
     ],
     "language": "python",
     "metadata": {},
     "outputs": [
      {
       "output_type": "stream",
       "stream": "stdout",
       "text": [
        "Ozone      116\n",
        "Solar.R    146\n",
        "Wind       153\n",
        "Temp       153\n",
        "Month      153\n",
        "Day        153\n",
        "dtype: int64\n"
       ]
      }
     ],
     "prompt_number": 141
    },
    {
     "cell_type": "code",
     "collapsed": false,
     "input": [
      "print data['Ozone'].mean()"
     ],
     "language": "python",
     "metadata": {},
     "outputs": [
      {
       "output_type": "stream",
       "stream": "stdout",
       "text": [
        "41.2931034483\n"
       ]
      }
     ],
     "prompt_number": 142
    },
    {
     "cell_type": "markdown",
     "metadata": {},
     "source": [
      "Several methods\n",
      "\n",
      "    count, describe, min, max, argmin, argmax, sum, mean, median, var, std, pct_change\n"
     ]
    },
    {
     "cell_type": "code",
     "collapsed": false,
     "input": [
      "tmp = data.head(10).copy()\n",
      "print data.head()"
     ],
     "language": "python",
     "metadata": {},
     "outputs": [
      {
       "output_type": "stream",
       "stream": "stdout",
       "text": [
        "   Ozone  Solar.R  Wind  Temp  Month  Day\n",
        "0     41      190   7.4    67      5    1\n",
        "1     36      118   8.0    72      5    2\n",
        "2     12      149  12.6    74      5    3\n",
        "3     18      313  11.5    62      5    4\n",
        "4    NaN      NaN  14.3    56      5    5\n"
       ]
      }
     ],
     "prompt_number": 149
    },
    {
     "cell_type": "code",
     "collapsed": false,
     "input": [
      "print tmp"
     ],
     "language": "python",
     "metadata": {},
     "outputs": [
      {
       "output_type": "stream",
       "stream": "stdout",
       "text": [
        "   Ozone  Solar.R  Wind  Temp  Month  Day\n",
        "0     41      190   7.4    67      5    1\n",
        "1     36      118   8.0    72      5    2\n",
        "2     12      149  12.6    74      5    3\n",
        "3     18      313  11.5    62      5    4\n",
        "4    NaN      NaN  14.3    56      5    5\n",
        "5     28      NaN  14.9    66      5    6\n",
        "6     23      299   8.6    65      5    7\n",
        "7     19       99  13.8    59      5    8\n",
        "8      8       19  20.1    61      5    9\n",
        "9    NaN      194   8.6    69      5   10\n"
       ]
      }
     ],
     "prompt_number": 150
    },
    {
     "cell_type": "code",
     "collapsed": false,
     "input": [
      "tmp['Day'][tmp['Day'] < tmp['Month']] = 4\n",
      "tmp['Ozone'][tmp['Ozone'] < 15 ] = 100"
     ],
     "language": "python",
     "metadata": {},
     "outputs": [],
     "prompt_number": 163
    },
    {
     "cell_type": "code",
     "collapsed": false,
     "input": [
      "print tmp"
     ],
     "language": "python",
     "metadata": {},
     "outputs": [
      {
       "output_type": "stream",
       "stream": "stdout",
       "text": [
        "   Ozone  Solar.R  Wind  Temp  Month  Day\n",
        "0     41      190   7.4    67      5    4\n",
        "1     36      118   8.0    72      5    4\n",
        "2    100      149  12.6    74      5    4\n",
        "3     18      313  11.5    62      5    4\n",
        "4    NaN      NaN  14.3    56      5    5\n",
        "5     28      NaN  14.9    66      5    6\n",
        "6     23      299   8.6    65      5    7\n",
        "7     19       99  13.8    59      5    8\n",
        "8    100       19  20.1    61      5    9\n",
        "9    NaN      194   8.6    69      5   10\n"
       ]
      }
     ],
     "prompt_number": 164
    },
    {
     "cell_type": "code",
     "collapsed": false,
     "input": [
      "data = pd.read_csv(os.path.join('data', 'temp.csv'))\n",
      "print data"
     ],
     "language": "python",
     "metadata": {},
     "outputs": [
      {
       "output_type": "stream",
       "stream": "stdout",
       "text": [
        "<class 'pandas.core.frame.DataFrame'>\n",
        "Int64Index: 153 entries, 0 to 152\n",
        "Data columns (total 6 columns):\n",
        "Ozone      116  non-null values\n",
        "Solar.R    147  non-null values\n",
        "Wind       153  non-null values\n",
        "Temp       153  non-null values\n",
        "Month      153  non-null values\n",
        "Day        153  non-null values\n",
        "dtypes: float64(2), int64(3), object(1)\n"
       ]
      }
     ],
     "prompt_number": 186
    },
    {
     "cell_type": "code",
     "collapsed": false,
     "input": [
      "def clean(data):\n",
      "    try:\n",
      "        x = float(data)\n",
      "        return x\n",
      "    except ValueError:\n",
      "        return -999.0"
     ],
     "language": "python",
     "metadata": {},
     "outputs": [],
     "prompt_number": 198
    },
    {
     "cell_type": "code",
     "collapsed": false,
     "input": [
      "type(data['Solar.R'])"
     ],
     "language": "python",
     "metadata": {},
     "outputs": [
      {
       "metadata": {},
       "output_type": "pyout",
       "prompt_number": 199,
       "text": [
        "pandas.core.series.Series"
       ]
      }
     ],
     "prompt_number": 199
    },
    {
     "cell_type": "code",
     "collapsed": false,
     "input": [
      "data['new_solar.R'] = data['Solar.R'].map(clean)\n",
      "data = data.drop('Solar.R', axis=1)\n",
      "print data.head()"
     ],
     "language": "python",
     "metadata": {},
     "outputs": [
      {
       "output_type": "stream",
       "stream": "stdout",
       "text": [
        "   Ozone  Wind  Temp  Month  Day  new_solar.R\n",
        "0     41   7.4    67      5    1          190\n",
        "1     36   8.0    72      5    2          118\n",
        "2     12  12.6    74      5    3          149\n",
        "3     18  11.5    62      5    4          313\n",
        "4    NaN  14.3    56      5    5         -999\n"
       ]
      }
     ],
     "prompt_number": 202
    },
    {
     "cell_type": "code",
     "collapsed": false,
     "input": [
      "with open('data/temp.csv') as infile:\n",
      "    data = infile.read()\n",
      "    for lines in data.split('\\n'):\n",
      "        new_line = []\n",
      "        for word in lines.split(','):\n",
      "            try:\n",
      "                x = float(word)\n",
      "                new_line.append(x)\n",
      "            except ValueError:\n",
      "                new_line.append(-999)\n",
      "                #print word.isalpha(), word\n",
      "        print new_line\n",
      "    "
     ],
     "language": "python",
     "metadata": {},
     "outputs": [
      {
       "output_type": "stream",
       "stream": "stdout",
       "text": [
        "[-999, -999, -999, -999, -999, -999]\n",
        "[41.0, 190.0, 7.4, 67.0, 5.0, 1.0]\n",
        "[36.0, 118.0, 8.0, 72.0, 5.0, 2.0]\n",
        "[12.0, 149.0, 12.6, 74.0, 5.0, 3.0]\n",
        "[18.0, 313.0, 11.5, 62.0, 5.0, 4.0]\n",
        "[-999, -999, 14.3, 56.0, 5.0, 5.0]\n",
        "[28.0, -999, 14.9, 66.0, 5.0, 6.0]\n",
        "[23.0, 299.0, 8.6, 65.0, 5.0, 7.0]\n",
        "[19.0, 99.0, 13.8, 59.0, 5.0, 8.0]\n",
        "[8.0, 19.0, 20.1, 61.0, 5.0, 9.0]\n",
        "[-999, 194.0, 8.6, 69.0, 5.0, 10.0]\n",
        "[7.0, -999, 6.9, 74.0, 5.0, 11.0]\n",
        "[16.0, 256.0, 9.7, 69.0, 5.0, 12.0]\n",
        "[11.0, 290.0, 9.2, 66.0, 5.0, 13.0]\n",
        "[14.0, 274.0, 10.9, 68.0, 5.0, 14.0]\n",
        "[18.0, 65.0, 13.2, 58.0, 5.0, 15.0]\n",
        "[14.0, 334.0, 11.5, 64.0, 5.0, 16.0]\n",
        "[34.0, 307.0, 12.0, 66.0, 5.0, 17.0]\n",
        "[6.0, 78.0, 18.4, 57.0, 5.0, 18.0]\n",
        "[30.0, 322.0, 11.5, 68.0, 5.0, 19.0]\n",
        "[11.0, 44.0, 9.7, 62.0, 5.0, 20.0]\n",
        "[1.0, 8.0, 9.7, 59.0, 5.0, 21.0]\n",
        "[11.0, 320.0, 16.6, 73.0, 5.0, 22.0]\n",
        "[4.0, 25.0, 9.7, 61.0, 5.0, 23.0]\n",
        "[32.0, 92.0, 12.0, 61.0, 5.0, 24.0]\n",
        "[-999, 66.0, 16.6, 57.0, 5.0, 25.0]\n",
        "[-999, 266.0, 14.9, 58.0, 5.0, 26.0]\n",
        "[-999, -999, 8.0, 57.0, 5.0, 27.0]\n",
        "[23.0, 13.0, 12.0, 67.0, 5.0, 28.0]\n",
        "[45.0, 252.0, 14.9, 81.0, 5.0, 29.0]\n",
        "[115.0, 223.0, 5.7, 79.0, 5.0, 30.0]\n",
        "[37.0, 279.0, 7.4, 76.0, 5.0, 31.0]\n",
        "[-999, 286.0, 8.6, 78.0, 6.0, 1.0]\n",
        "[-999, 287.0, 9.7, 74.0, 6.0, 2.0]\n",
        "[-999, 242.0, 16.1, 67.0, 6.0, 3.0]\n",
        "[-999, 186.0, 9.2, 84.0, 6.0, 4.0]\n",
        "[-999, 220.0, 8.6, 85.0, 6.0, 5.0]\n",
        "[-999, 264.0, 14.3, 79.0, 6.0, 6.0]\n",
        "[29.0, 127.0, 9.7, 82.0, 6.0, 7.0]\n",
        "[-999, 273.0, 6.9, 87.0, 6.0, 8.0]\n",
        "[71.0, 291.0, 13.8, 90.0, 6.0, 9.0]\n",
        "[39.0, 323.0, 11.5, 87.0, 6.0, 10.0]\n",
        "[-999, 259.0, 10.9, 93.0, 6.0, 11.0]\n",
        "[-999, 250.0, 9.2, 92.0, 6.0, 12.0]\n",
        "[23.0, 148.0, 8.0, 82.0, 6.0, 13.0]\n",
        "[-999, 332.0, 13.8, 80.0, 6.0, 14.0]\n",
        "[-999, 322.0, 11.5, 79.0, 6.0, 15.0]\n",
        "[21.0, 191.0, 14.9, 77.0, 6.0, 16.0]\n",
        "[37.0, 284.0, 20.7, 72.0, 6.0, 17.0]\n",
        "[20.0, 37.0, 9.2, 65.0, 6.0, 18.0]\n",
        "[12.0, 120.0, 11.5, 73.0, 6.0, 19.0]\n",
        "[13.0, 137.0, 10.3, 76.0, 6.0, 20.0]\n",
        "[-999, 150.0, 6.3, 77.0, 6.0, 21.0]\n",
        "[-999, 59.0, 1.7, 76.0, 6.0, 22.0]\n",
        "[-999, 91.0, 4.6, 76.0, 6.0, 23.0]\n",
        "[-999, 250.0, 6.3, 76.0, 6.0, 24.0]\n",
        "[-999, 135.0, 8.0, 75.0, 6.0, 25.0]\n",
        "[-999, 127.0, 8.0, 78.0, 6.0, 26.0]\n",
        "[-999, 47.0, 10.3, 73.0, 6.0, 27.0]\n",
        "[-999, 98.0, 11.5, 80.0, 6.0, 28.0]\n",
        "[-999, 31.0, 14.9, 77.0, 6.0, 29.0]\n",
        "[-999, 138.0, 8.0, 83.0, 6.0, 30.0]\n",
        "[135.0, 269.0, 4.1, 84.0, 7.0, 1.0]\n",
        "[49.0, 248.0, 9.2, 85.0, 7.0, 2.0]\n",
        "[32.0, 236.0, 9.2, 81.0, 7.0, 3.0]\n",
        "[-999, 101.0, 10.9, 84.0, 7.0, 4.0]\n",
        "[64.0, 175.0, 4.6, 83.0, 7.0, 5.0]\n",
        "[40.0, 314.0, 10.9, 83.0, 7.0, 6.0]\n",
        "[77.0, 276.0, 5.1, 88.0, 7.0, 7.0]\n",
        "[97.0, 267.0, 6.3, 92.0, 7.0, 8.0]\n",
        "[97.0, 272.0, 5.7, 92.0, 7.0, 9.0]\n",
        "[85.0, 175.0, 7.4, 89.0, 7.0, 10.0]\n",
        "[-999, 139.0, 8.6, 82.0, 7.0, 11.0]\n",
        "[10.0, 264.0, 14.3, 73.0, 7.0, 12.0]\n",
        "[27.0, 175.0, 14.9, 81.0, 7.0, 13.0]\n",
        "[-999, 291.0, 14.9, 91.0, 7.0, 14.0]\n",
        "[7.0, 48.0, 14.3, 80.0, 7.0, 15.0]\n",
        "[48.0, 260.0, 6.9, 81.0, 7.0, 16.0]\n",
        "[35.0, 274.0, 10.3, 82.0, 7.0, 17.0]\n",
        "[61.0, 285.0, 6.3, 84.0, 7.0, 18.0]\n",
        "[79.0, 187.0, 5.1, 87.0, 7.0, 19.0]\n",
        "[63.0, 220.0, 11.5, 85.0, 7.0, 20.0]\n",
        "[16.0, 7.0, 6.9, 74.0, 7.0, 21.0]\n",
        "[-999, 258.0, 9.7, 81.0, 7.0, 22.0]\n",
        "[-999, 295.0, 11.5, 82.0, 7.0, 23.0]\n",
        "[80.0, 294.0, 8.6, 86.0, 7.0, 24.0]\n",
        "[108.0, 223.0, 8.0, 85.0, 7.0, 25.0]\n",
        "[20.0, 81.0, 8.6, 82.0, 7.0, 26.0]\n",
        "[52.0, 82.0, 12.0, 86.0, 7.0, 27.0]\n",
        "[82.0, 213.0, 7.4, 88.0, 7.0, 28.0]\n",
        "[50.0, 275.0, 7.4, 86.0, 7.0, 29.0]\n",
        "[64.0, 253.0, 7.4, 83.0, 7.0, 30.0]\n",
        "[59.0, 254.0, 9.2, 81.0, 7.0, 31.0]\n",
        "[39.0, 83.0, 6.9, 81.0, 8.0, 1.0]\n",
        "[9.0, 24.0, 13.8, 81.0, 8.0, 2.0]\n",
        "[16.0, 77.0, 7.4, 82.0, 8.0, 3.0]\n",
        "[78.0, -999, 6.9, 86.0, 8.0, 4.0]\n",
        "[35.0, -999, 7.4, 85.0, 8.0, 5.0]\n",
        "[66.0, -999, 4.6, 87.0, 8.0, 6.0]\n",
        "[122.0, 255.0, 4.0, 89.0, 8.0, 7.0]\n",
        "[89.0, 229.0, 10.3, 90.0, 8.0, 8.0]\n",
        "[110.0, 207.0, 8.0, 90.0, 8.0, 9.0]\n",
        "[-999, 222.0, 8.6, 92.0, 8.0, 10.0]\n",
        "[-999, 137.0, 11.5, 86.0, 8.0, 11.0]\n",
        "[44.0, 192.0, 11.5, 86.0, 8.0, 12.0]\n",
        "[28.0, 273.0, 11.5, 82.0, 8.0, 13.0]\n",
        "[65.0, 157.0, 9.7, 80.0, 8.0, 14.0]\n",
        "[-999, 64.0, 11.5, 79.0, 8.0, 15.0]\n",
        "[22.0, 71.0, 10.3, 77.0, 8.0, 16.0]\n",
        "[59.0, 51.0, 6.3, 79.0, 8.0, 17.0]\n",
        "[23.0, 115.0, 7.4, 76.0, 8.0, 18.0]\n",
        "[31.0, 244.0, 10.9, 78.0, 8.0, 19.0]\n",
        "[44.0, 190.0, 10.3, 78.0, 8.0, 20.0]\n",
        "[21.0, 259.0, 15.5, 77.0, 8.0, 21.0]\n",
        "[9.0, 36.0, 14.3, 72.0, 8.0, 22.0]\n",
        "[-999, 255.0, 12.6, 75.0, 8.0, 23.0]\n",
        "[45.0, 212.0, 9.7, 79.0, 8.0, 24.0]\n",
        "[168.0, 238.0, 3.4, 81.0, 8.0, 25.0]\n",
        "[73.0, 215.0, 8.0, 86.0, 8.0, 26.0]\n",
        "[-999, 153.0, 5.7, 88.0, 8.0, 27.0]\n",
        "[76.0, 203.0, 9.7, 97.0, 8.0, 28.0]\n",
        "[118.0, 225.0, 2.3, 94.0, 8.0, 29.0]\n",
        "[84.0, 237.0, 6.3, 96.0, 8.0, 30.0]\n",
        "[85.0, 188.0, 6.3, 94.0, 8.0, 31.0]\n",
        "[96.0, 167.0, 6.9, 91.0, 9.0, 1.0]\n",
        "[78.0, 197.0, 5.1, 92.0, 9.0, 2.0]\n",
        "[73.0, 183.0, 2.8, 93.0, 9.0, 3.0]\n",
        "[91.0, 189.0, 4.6, 93.0, 9.0, 4.0]\n",
        "[47.0, 95.0, 7.4, 87.0, 9.0, 5.0]\n",
        "[32.0, 92.0, 15.5, 84.0, 9.0, 6.0]\n",
        "[20.0, 252.0, 10.9, 80.0, 9.0, 7.0]\n",
        "[23.0, 220.0, 10.3, 78.0, 9.0, 8.0]\n",
        "[21.0, 230.0, 10.9, 75.0, 9.0, 9.0]\n",
        "[24.0, 259.0, 9.7, 73.0, 9.0, 10.0]\n",
        "[44.0, 236.0, 14.9, 81.0, 9.0, 11.0]\n",
        "[21.0, 259.0, 15.5, 76.0, 9.0, 12.0]\n",
        "[28.0, 238.0, 6.3, 77.0, 9.0, 13.0]\n",
        "[9.0, 24.0, 10.9, 71.0, 9.0, 14.0]\n",
        "[13.0, 112.0, 11.5, 71.0, 9.0, 15.0]\n",
        "[46.0, 237.0, 6.9, 78.0, 9.0, 16.0]\n",
        "[18.0, 224.0, 13.8, 67.0, 9.0, 17.0]\n",
        "[13.0, 27.0, 10.3, 76.0, 9.0, 18.0]\n",
        "[24.0, 238.0, 10.3, 68.0, 9.0, 19.0]\n",
        "[16.0, 201.0, 8.0, 82.0, 9.0, 20.0]\n",
        "[13.0, 238.0, 12.6, 64.0, 9.0, 21.0]\n",
        "[23.0, 14.0, 9.2, 71.0, 9.0, 22.0]\n",
        "[36.0, 139.0, 10.3, 81.0, 9.0, 23.0]\n",
        "[7.0, 49.0, 10.3, 69.0, 9.0, 24.0]\n",
        "[14.0, 20.0, 16.6, 63.0, 9.0, 25.0]\n",
        "[30.0, 193.0, 6.9, 70.0, 9.0, 26.0]\n",
        "[-999, 145.0, 13.2, 77.0, 9.0, 27.0]\n",
        "[14.0, 191.0, 14.3, 75.0, 9.0, 28.0]\n",
        "[18.0, 131.0, 8.0, 76.0, 9.0, 29.0]\n",
        "[20.0, 223.0, 11.5, 68.0, 9.0, 30.0]\n",
        "[-999]\n"
       ]
      }
     ],
     "prompt_number": 182
    },
    {
     "cell_type": "code",
     "collapsed": false,
     "input": [
      "data = range(20)"
     ],
     "language": "python",
     "metadata": {},
     "outputs": [],
     "prompt_number": 203
    },
    {
     "cell_type": "code",
     "collapsed": false,
     "input": [
      "tmp = []\n",
      "for i in data:\n",
      "    tmp.append(i*i)"
     ],
     "language": "python",
     "metadata": {},
     "outputs": [],
     "prompt_number": 205
    },
    {
     "cell_type": "code",
     "collapsed": false,
     "input": [
      "print tmp"
     ],
     "language": "python",
     "metadata": {},
     "outputs": [
      {
       "output_type": "stream",
       "stream": "stdout",
       "text": [
        "[0, 1, 4, 9, 16, 25, 36, 49, 64, 81, 100, 121, 144, 169, 196, 225, 256, 289, 324, 361]\n"
       ]
      }
     ],
     "prompt_number": 206
    },
    {
     "cell_type": "code",
     "collapsed": false,
     "input": [
      "def square(x):\n",
      "    return x*x\n",
      "\n",
      "tmp = map(lambda x: x+5, data)"
     ],
     "language": "python",
     "metadata": {},
     "outputs": [],
     "prompt_number": 211
    },
    {
     "cell_type": "code",
     "collapsed": false,
     "input": [
      "print tmp"
     ],
     "language": "python",
     "metadata": {},
     "outputs": [
      {
       "output_type": "stream",
       "stream": "stdout",
       "text": [
        "[5, 6, 7, 8, 9, 10, 11, 12, 13, 14, 15, 16, 17, 18, 19, 20, 21, 22, 23, 24]\n"
       ]
      }
     ],
     "prompt_number": 212
    },
    {
     "cell_type": "code",
     "collapsed": false,
     "input": [],
     "language": "python",
     "metadata": {},
     "outputs": []
    }
   ],
   "metadata": {}
  }
 ]
}