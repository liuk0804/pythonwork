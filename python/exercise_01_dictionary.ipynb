{
 "metadata": {
  "css": [
   ""
  ],
  "name": ""
 },
 "nbformat": 3,
 "nbformat_minor": 0,
 "worksheets": [
  {
   "cells": [
    {
     "cell_type": "markdown",
     "metadata": {
      "slideshow": {
       "slide_type": "slide"
      }
     },
     "source": [
      "#Exercise: Using Dictionaries"
     ]
    },
    {
     "cell_type": "markdown",
     "metadata": {},
     "source": [
      "##Dictionary\n",
      "\n",
      "Consider the following dictionarys:"
     ]
    },
    {
     "cell_type": "code",
     "collapsed": false,
     "input": [
      "zipcodes = {}\n",
      "zipcodes['80403'] = 'Boulder, CO, Boulder County'\n",
      "zipcodes['80123'] = 'Monument, CO El Paso County'\n",
      "zipcodes['80919'] = 'Colorado Springs, CO El Paso County'"
     ],
     "language": "python",
     "metadata": {},
     "outputs": [],
     "prompt_number": 1
    },
    {
     "cell_type": "code",
     "collapsed": false,
     "input": [
      "names = {}\n",
      "names['Pat'] = '80403'\n",
      "names['Bob'] = '80919'\n",
      "names['Jane'] = '80132'"
     ],
     "language": "python",
     "metadata": {},
     "outputs": [],
     "prompt_number": 2
    },
    {
     "cell_type": "markdown",
     "metadata": {},
     "source": [
      "It's efficient because I can linke a `name` with `zipcode` information.  Then I can print `name` information."
     ]
    },
    {
     "cell_type": "code",
     "collapsed": false,
     "input": [
      "name = 'Pat'\n",
      "\n",
      "print name, 'lives in', zipcodes[names[name]]"
     ],
     "language": "python",
     "metadata": {},
     "outputs": [
      {
       "output_type": "stream",
       "stream": "stdout",
       "text": [
        "Pat lives in Boulder, CO, Boulder County\n"
       ]
      }
     ],
     "prompt_number": 3
    },
    {
     "cell_type": "markdown",
     "metadata": {},
     "source": [
      "1. Add a phone number to the `names` dictionary. \n",
      "\n",
      "    Your new output should look like:\n",
      "\n",
      "        Pat is from Boulder CO, Boulder County :  xxx-xxx-xxxx"
     ]
    }
   ],
   "metadata": {}
  }
 ]
}