{
 "metadata": {
  "css": [
   ""
  ],
  "name": ""
 },
 "nbformat": 3,
 "nbformat_minor": 0,
 "worksheets": [
  {
   "cells": [
    {
     "cell_type": "markdown",
     "metadata": {},
     "source": [
      "#Example: Twitter Data\n",
      "\n",
      "What are the 10 most popular hashtags in this tweet file?\n",
      "\n",
      "[Twitter API](https://dev.twitter.com/docs/platform-objects/tweets), [entities](https://dev.twitter.com/docs/platform-objects/entities)\n",
      "\n",
      "Hints:\n",
      "- Each line of the file is a json object\n",
      "- Use the `json` module to read each line and store as a dictionary.\n",
      "- You only need to keep the `hashtags` information.  If your json line variable is `data`, you can get the `hashtags` by doing the following.\n",
      "\n",
      "    data['entities']['hashtags']"
     ]
    },
    {
     "cell_type": "code",
     "collapsed": false,
     "input": [
      "import os, json\n",
      "data_path = os.path.join('data','twitter_stream.txt')\n",
      "print data_path"
     ],
     "language": "python",
     "metadata": {},
     "outputs": [
      {
       "output_type": "stream",
       "stream": "stdout",
       "text": [
        "data/twitter_stream.txt\n"
       ]
      }
     ],
     "prompt_number": 1
    },
    {
     "cell_type": "code",
     "collapsed": false,
     "input": [
      "def sort_dictionary(d):\n",
      "    pairs = sorted(d.items(), key=lambda x: x[1], reverse=True)\n",
      "    return pairs"
     ],
     "language": "python",
     "metadata": {},
     "outputs": [],
     "prompt_number": 20
    },
    {
     "cell_type": "markdown",
     "metadata": {},
     "source": [
      "## Read the data into a list of dictionaries\n",
      "\n",
      "- Consider working on a small test file.\n",
      "- How many lines do you get?"
     ]
    },
    {
     "cell_type": "code",
     "collapsed": false,
     "input": [
      "def load_twitter(tweet_file):\n",
      "    text_data = []\n",
      "    for line in tweet_file:\n",
      "        try:\n",
      "            data = json.loads(line)\n",
      "            text_data.append(data['entities']['hashtags'])\n",
      "        except:\n",
      "            pass\n",
      "    return text_data"
     ],
     "language": "python",
     "metadata": {},
     "outputs": [],
     "prompt_number": 22
    },
    {
     "cell_type": "code",
     "collapsed": false,
     "input": [
      "with open(data_path,'r') as infile:\n",
      "    twitter = load_twitter(infile)"
     ],
     "language": "python",
     "metadata": {},
     "outputs": [],
     "prompt_number": 23
    },
    {
     "cell_type": "code",
     "collapsed": false,
     "input": [
      "print len(twitter)"
     ],
     "language": "python",
     "metadata": {},
     "outputs": [
      {
       "output_type": "stream",
       "stream": "stdout",
       "text": [
        "8824\n"
       ]
      }
     ],
     "prompt_number": 24
    },
    {
     "cell_type": "markdown",
     "metadata": {},
     "source": [
      "### What are the most popular tags?\n"
     ]
    },
    {
     "cell_type": "code",
     "collapsed": false,
     "input": [
      "top_ten = {}\n",
      "for t in twitter:\n",
      "    for h in t:\n",
      "        top_ten[h['text']] = top_ten.get(h['text'],0) + 1"
     ],
     "language": "python",
     "metadata": {},
     "outputs": [],
     "prompt_number": 26
    },
    {
     "cell_type": "code",
     "collapsed": false,
     "input": [
      "tmp = sort_dictionary(top_ten)\n",
      "for t in tmp[:10]:\n",
      "    print t"
     ],
     "language": "python",
     "metadata": {},
     "outputs": [
      {
       "output_type": "stream",
       "stream": "stdout",
       "text": [
        "(u'gameinsight', 29)\n",
        "(u'directionersandbeliebersfollowparty', 19)\n",
        "(u'androidgames', 19)\n",
        "(u'FF', 18)\n",
        "(u'android', 17)\n",
        "(u'YoYMisGanas', 15)\n",
        "(u'RT', 14)\n",
        "(u'GabySpanicNossaEternaUsurpadora', 9)\n",
        "(u'ff', 9)\n",
        "(u'Al\\xe9mDaUsurpadora', 9)\n"
       ]
      }
     ],
     "prompt_number": 29
    },
    {
     "cell_type": "code",
     "collapsed": false,
     "input": [],
     "language": "python",
     "metadata": {},
     "outputs": []
    }
   ],
   "metadata": {}
  }
 ]
}