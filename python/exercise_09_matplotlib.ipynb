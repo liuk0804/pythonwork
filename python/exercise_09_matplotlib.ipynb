{
 "metadata": {
  "css": [
   ""
  ],
  "name": ""
 },
 "nbformat": 3,
 "nbformat_minor": 0,
 "worksheets": [
  {
   "cells": [
    {
     "cell_type": "markdown",
     "metadata": {},
     "source": [
      "#Matplotlib Exercise"
     ]
    },
    {
     "cell_type": "markdown",
     "metadata": {},
     "source": [
      "This is part of the homework assignemnt three given in Roger Peng [Coursera](https://www.coursera.org) class [Computing for Data Analysis](https://www.coursera.org/course/compdata)."
     ]
    },
    {
     "cell_type": "code",
     "collapsed": false,
     "input": [
      "import pandas as pd\n",
      "import numpy as np\n",
      "import os"
     ],
     "language": "python",
     "metadata": {},
     "outputs": [],
     "prompt_number": 1
    },
    {
     "cell_type": "markdown",
     "metadata": {},
     "source": [
      "##Hospital Comparison"
     ]
    },
    {
     "cell_type": "code",
     "collapsed": false,
     "input": [
      "df = pd.read_csv(os.path.join('data','outcome-of-care-measures.csv'))\n",
      "print len(df)"
     ],
     "language": "python",
     "metadata": {},
     "outputs": [
      {
       "output_type": "stream",
       "stream": "stdout",
       "text": [
        "4706\n"
       ]
      }
     ],
     "prompt_number": 2
    },
    {
     "cell_type": "markdown",
     "metadata": {},
     "source": [
      "### Plot the 30-day mortality rates for heart attack\n",
      "\n",
      "You can get this information from column:\n",
      "\n",
      "    df['Hospital 30-Day Death (Mortality) Rates from Heart Attack'].head()\n",
      "\n",
      "Your plot should look like the following:\n",
      "\n",
      "<img src=\"files/img/hospital1.png\"/>\n"
     ]
    },
    {
     "cell_type": "markdown",
     "metadata": {},
     "source": [
      "###Plot the 30-day mortality rates for heart attack, heart failure, and pneumonia\n",
      "\n",
      "Here are the columns you are interested in:"
     ]
    },
    {
     "cell_type": "code",
     "collapsed": false,
     "input": [
      "for c in df.iloc[:,[10,16,22]].columns:\n",
      "    print c"
     ],
     "language": "python",
     "metadata": {},
     "outputs": [
      {
       "output_type": "stream",
       "stream": "stdout",
       "text": [
        "Hospital 30-Day Death (Mortality) Rates from Heart Attack\n",
        "Hospital 30-Day Death (Mortality) Rates from Heart Failure\n",
        "Hospital 30-Day Death (Mortality) Rates from Pneumonia\n"
       ]
      }
     ],
     "prompt_number": 5
    },
    {
     "cell_type": "markdown",
     "metadata": {},
     "source": [
      "Your plot should look like:\n",
      "\n",
      "<img src=\"files/img/hospital2.png\"/>\n"
     ]
    },
    {
     "cell_type": "markdown",
     "metadata": {},
     "source": [
      "###Plot 30-day death rates by state"
     ]
    },
    {
     "cell_type": "markdown",
     "metadata": {},
     "source": [
      "Here are the columns you are interested in."
     ]
    },
    {
     "cell_type": "code",
     "collapsed": false,
     "input": [
      "tmp = df.iloc[:,[6,10]]\n",
      "tmp.columns = ['state','rate']\n",
      "tmp['rate'] = tmp['rate'].convert_objects(convert_numeric=True)\n",
      "print tmp.head()"
     ],
     "language": "python",
     "metadata": {},
     "outputs": [
      {
       "output_type": "stream",
       "stream": "stdout",
       "text": [
        "  state  rate\n",
        "0    AL  14.3\n",
        "1    AL  18.5\n",
        "2    AL  18.1\n",
        "3    AL   NaN\n",
        "4    AL   NaN\n"
       ]
      }
     ],
     "prompt_number": 9
    },
    {
     "cell_type": "markdown",
     "metadata": {},
     "source": [
      "Make a boxplot that resembles the following, which is sorted by the mean.\n",
      "\n",
      "<img src=\"files/img/hospital3.png\"/>\n"
     ]
    }
   ],
   "metadata": {}
  }
 ]
}