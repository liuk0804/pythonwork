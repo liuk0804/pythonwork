{
 "metadata": {
  "css": [
   ""
  ],
  "name": ""
 },
 "nbformat": 3,
 "nbformat_minor": 0,
 "worksheets": [
  {
   "cells": [
    {
     "cell_type": "heading",
     "level": 1,
     "metadata": {},
     "source": [
      "Reading and Writing Data"
     ]
    },
    {
     "cell_type": "markdown",
     "metadata": {},
     "source": [
      "- Text files\n",
      "- CSV files\n",
      "- JSON\n",
      "- Pickle"
     ]
    },
    {
     "cell_type": "markdown",
     "metadata": {
      "slideshow": {
       "slide_type": "slide"
      }
     },
     "source": [
      "## Writing to a file"
     ]
    },
    {
     "cell_type": "code",
     "collapsed": false,
     "input": [
      "text = \"When you are courting a nice girl, an hour seems like a second.\\n\"\n",
      "text = text + \"When you sit on a red-hot cinder, a second seems like an hour.\\n\"\n",
      "text += \"That's relativity.\""
     ],
     "language": "python",
     "metadata": {},
     "outputs": [],
     "prompt_number": 3
    },
    {
     "cell_type": "code",
     "collapsed": false,
     "input": [
      "print text"
     ],
     "language": "python",
     "metadata": {},
     "outputs": [
      {
       "output_type": "stream",
       "stream": "stdout",
       "text": [
        "When you are courting a nice girl, an hour seems like a second.\n",
        "When you sit on a red-hot cinder, a second seems like an hour.\n",
        "That's relativity.\n"
       ]
      }
     ],
     "prompt_number": 4
    },
    {
     "cell_type": "markdown",
     "metadata": {},
     "source": [
      "Create the `outfile` object."
     ]
    },
    {
     "cell_type": "code",
     "collapsed": false,
     "input": [
      "import os\n",
      "outfile = open(os.path.join('data','albert.txt'),'w')"
     ],
     "language": "python",
     "metadata": {},
     "outputs": [],
     "prompt_number": 21
    },
    {
     "cell_type": "markdown",
     "metadata": {},
     "source": [
      "Write the `text` data."
     ]
    },
    {
     "cell_type": "code",
     "collapsed": false,
     "input": [
      "for word in text.split():\n",
      "    outfile.write(word+' ')\n",
      "\n",
      "\n",
      "\n",
      "#outfile.write(text)"
     ],
     "language": "python",
     "metadata": {},
     "outputs": [],
     "prompt_number": 22
    },
    {
     "cell_type": "markdown",
     "metadata": {},
     "source": [
      "Close the `outfile` object."
     ]
    },
    {
     "cell_type": "code",
     "collapsed": false,
     "input": [
      "outfile.close()"
     ],
     "language": "python",
     "metadata": {},
     "outputs": [],
     "prompt_number": 23
    },
    {
     "cell_type": "code",
     "collapsed": false,
     "input": [
      "!cat data/albert.txt"
     ],
     "language": "python",
     "metadata": {},
     "outputs": [
      {
       "output_type": "stream",
       "stream": "stdout",
       "text": [
        "When you are courting a nice girl, an hour seems like a second. When you sit on a red-hot cinder, a second seems like an hour. That's relativity. "
       ]
      }
     ],
     "prompt_number": 24
    },
    {
     "cell_type": "markdown",
     "metadata": {
      "slideshow": {
       "slide_type": "slide"
      }
     },
     "source": [
      "##Reading files"
     ]
    },
    {
     "cell_type": "code",
     "collapsed": false,
     "input": [
      "infile = open('albert.txt','r')\n",
      "text = infile.read()\n",
      "infile.close()\n",
      "\n",
      "print text"
     ],
     "language": "python",
     "metadata": {},
     "outputs": [
      {
       "output_type": "stream",
       "stream": "stdout",
       "text": [
        "\n"
       ]
      }
     ],
     "prompt_number": 32
    },
    {
     "cell_type": "markdown",
     "metadata": {
      "slideshow": {
       "slide_type": "slide"
      }
     },
     "source": [
      "### The `with` Statement\n",
      "\n",
      "Peforms a `close()` for you."
     ]
    },
    {
     "cell_type": "code",
     "collapsed": false,
     "input": [
      "with open('data/albert.txt','r') as infile:\n",
      "    text = infile.read()"
     ],
     "language": "python",
     "metadata": {},
     "outputs": [],
     "prompt_number": 34
    },
    {
     "cell_type": "code",
     "collapsed": false,
     "input": [
      "print len(text)"
     ],
     "language": "python",
     "metadata": {},
     "outputs": [
      {
       "output_type": "stream",
       "stream": "stdout",
       "text": [
        "146\n"
       ]
      }
     ],
     "prompt_number": 35
    },
    {
     "cell_type": "code",
     "collapsed": false,
     "input": [
      "with open('data/albert.txt','w') as outfile:\n",
      "    outfile.write(text[:21])\n",
      "    outfile.write('\\n')\n",
      "    outfile.write(text[:33])"
     ],
     "language": "python",
     "metadata": {},
     "outputs": [],
     "prompt_number": 36
    },
    {
     "cell_type": "code",
     "collapsed": false,
     "input": [
      "!cat data/albert.txt"
     ],
     "language": "python",
     "metadata": {},
     "outputs": [
      {
       "output_type": "stream",
       "stream": "stdout",
       "text": [
        "When you are courting\r\n",
        "When you are courting a nice girl"
       ]
      }
     ],
     "prompt_number": 39
    },
    {
     "cell_type": "markdown",
     "metadata": {},
     "source": [
      "No `{}` braces!"
     ]
    },
    {
     "cell_type": "markdown",
     "metadata": {
      "slideshow": {
       "slide_type": "slide"
      }
     },
     "source": [
      "##Structured Text Data\n",
      "\n",
      "- CSV: comma-separated values \n",
      "- JSON: JavaScript Object Notation\n",
      "- XML: EXtensible Markup Language\n",
      "- HTML"
     ]
    },
    {
     "cell_type": "markdown",
     "metadata": {
      "slideshow": {
       "slide_type": "slide"
      }
     },
     "source": [
      "### CSV Writer"
     ]
    },
    {
     "cell_type": "code",
     "collapsed": false,
     "input": [
      "import csv"
     ],
     "language": "python",
     "metadata": {},
     "outputs": [],
     "prompt_number": 41
    },
    {
     "cell_type": "code",
     "collapsed": false,
     "input": [
      "with open('numbers.csv','w') as outfile:\n",
      "    writer = csv.writer(outfile)\n",
      "    writer.writerow(('first','second','third'))\n",
      "    writer.writerow((1,3,6,8)) #oops\n",
      "    writer.writerow((2,4,6))"
     ],
     "language": "python",
     "metadata": {},
     "outputs": [],
     "prompt_number": 42
    },
    {
     "cell_type": "code",
     "collapsed": false,
     "input": [
      "!cat numbers.csv"
     ],
     "language": "python",
     "metadata": {},
     "outputs": [
      {
       "output_type": "stream",
       "stream": "stdout",
       "text": [
        "first,second,third\r",
        "\r\n",
        "1,3,6,8\r",
        "\r\n",
        "2,4,6\r",
        "\r\n"
       ]
      }
     ],
     "prompt_number": 43
    },
    {
     "cell_type": "markdown",
     "metadata": {
      "slideshow": {
       "slide_type": "slide"
      }
     },
     "source": [
      "###CSV Reader"
     ]
    },
    {
     "cell_type": "code",
     "collapsed": false,
     "input": [
      "with open('numbers.csv','r') as infile:\n",
      "    reader = csv.reader(infile)\n",
      "    for x in reader:\n",
      "        print len(x)"
     ],
     "language": "python",
     "metadata": {},
     "outputs": [
      {
       "output_type": "stream",
       "stream": "stdout",
       "text": [
        "3\n",
        "4\n",
        "3\n"
       ]
      }
     ],
     "prompt_number": 47
    },
    {
     "cell_type": "code",
     "collapsed": false,
     "input": [
      "with open('numbers.csv','r') as infile:\n",
      "    reader = csv.reader(infile)\n",
      "    data = list(reader)\n",
      "    \n",
      "    \n",
      "print data"
     ],
     "language": "python",
     "metadata": {},
     "outputs": [
      {
       "output_type": "stream",
       "stream": "stdout",
       "text": [
        "[['first', 'second', 'third'], ['1', '3', '6', '8'], ['2', '4', '6']]\n"
       ]
      }
     ],
     "prompt_number": 48
    },
    {
     "cell_type": "code",
     "collapsed": false,
     "input": [
      "for line in data[1:]:\n",
      "    print line"
     ],
     "language": "python",
     "metadata": {},
     "outputs": [
      {
       "output_type": "stream",
       "stream": "stdout",
       "text": [
        "['1', '3', '6', '8']\n",
        "['2', '4', '6']\n"
       ]
      }
     ],
     "prompt_number": 51
    },
    {
     "cell_type": "markdown",
     "metadata": {
      "slideshow": {
       "slide_type": "slide"
      }
     },
     "source": [
      "###JSON\n",
      "\n",
      "More flexible than CSV for structured text"
     ]
    },
    {
     "cell_type": "code",
     "collapsed": false,
     "input": [
      "data = {'name': 'Guido van Rossum',\n",
      "        'language': 'Python',\n",
      "        'similar': ['c','Modula-3','lisp'],\n",
      "        'users': 1000000}"
     ],
     "language": "python",
     "metadata": {},
     "outputs": [],
     "prompt_number": 52
    },
    {
     "cell_type": "code",
     "collapsed": false,
     "input": [
      "for k,v in data.items():\n",
      "    print k,'\\t',v"
     ],
     "language": "python",
     "metadata": {},
     "outputs": [
      {
       "output_type": "stream",
       "stream": "stdout",
       "text": [
        "similar \t['c', 'Modula-3', 'lisp']\n",
        "name \tGuido van Rossum\n",
        "language \tPython\n",
        "users \t1000000\n"
       ]
      }
     ],
     "prompt_number": 55
    },
    {
     "cell_type": "code",
     "collapsed": false,
     "input": [
      "import json\n",
      "json.dumps(data)"
     ],
     "language": "python",
     "metadata": {},
     "outputs": [
      {
       "metadata": {},
       "output_type": "pyout",
       "prompt_number": 56,
       "text": [
        "'{\"similar\": [\"c\", \"Modula-3\", \"lisp\"], \"name\": \"Guido van Rossum\", \"language\": \"Python\", \"users\": 1000000}'"
       ]
      }
     ],
     "prompt_number": 56
    },
    {
     "cell_type": "code",
     "collapsed": false,
     "input": [
      "with open('data.json','w') as outfile:\n",
      "    outfile.write(json.dumps(data))"
     ],
     "language": "python",
     "metadata": {},
     "outputs": [],
     "prompt_number": 38
    },
    {
     "cell_type": "markdown",
     "metadata": {
      "slideshow": {
       "slide_type": "slide"
      }
     },
     "source": [
      "### Read JSON"
     ]
    },
    {
     "cell_type": "code",
     "collapsed": false,
     "input": [
      "with open('data.json','r') as infile:\n",
      "    text = infile.read()\n",
      "    data = json.loads(text)"
     ],
     "language": "python",
     "metadata": {},
     "outputs": [],
     "prompt_number": 39
    },
    {
     "cell_type": "code",
     "collapsed": false,
     "input": [
      "print data"
     ],
     "language": "python",
     "metadata": {},
     "outputs": [
      {
       "output_type": "stream",
       "stream": "stdout",
       "text": [
        "{u'similar': [u'c', u'Modula-3', u'lisp'], u'name': u'Guido van Rossum', u'language': u'Python', u'users': 1000000}\n"
       ]
      }
     ],
     "prompt_number": 40
    },
    {
     "cell_type": "code",
     "collapsed": false,
     "input": [
      "print data['name']"
     ],
     "language": "python",
     "metadata": {},
     "outputs": [
      {
       "output_type": "stream",
       "stream": "stdout",
       "text": [
        "Guido van Rossum\n"
       ]
      }
     ],
     "prompt_number": 41
    },
    {
     "cell_type": "markdown",
     "metadata": {},
     "source": [
      "Take a minute to think about how powerful and simple this is."
     ]
    },
    {
     "cell_type": "markdown",
     "metadata": {
      "slideshow": {
       "slide_type": "slide"
      }
     },
     "source": [
      "###Pickle serialization\n",
      "\n",
      "Stores data efficiently in binary format."
     ]
    },
    {
     "cell_type": "code",
     "collapsed": false,
     "input": [
      "import pickle"
     ],
     "language": "python",
     "metadata": {},
     "outputs": []
    },
    {
     "cell_type": "code",
     "collapsed": false,
     "input": [
      "with open('data.pickle', 'wb') as output:\n",
      "    pickle.dump(data, output)"
     ],
     "language": "python",
     "metadata": {},
     "outputs": []
    },
    {
     "cell_type": "markdown",
     "metadata": {},
     "source": [
      "Read it back in."
     ]
    },
    {
     "cell_type": "code",
     "collapsed": false,
     "input": [
      "with open('data.pickle', 'rb') as input:\n",
      "    data = pickle.load(input)"
     ],
     "language": "python",
     "metadata": {},
     "outputs": []
    },
    {
     "cell_type": "code",
     "collapsed": false,
     "input": [
      "print data['name']"
     ],
     "language": "python",
     "metadata": {},
     "outputs": []
    },
    {
     "cell_type": "markdown",
     "metadata": {
      "slideshow": {
       "slide_type": "slide"
      }
     },
     "source": [
      "###Web APIs with `urllib2` or `requests`"
     ]
    },
    {
     "cell_type": "code",
     "collapsed": false,
     "input": [
      "import urllib2\n",
      "response = urllib2.urlopen('http://vimeo.com/api/v2/video/57733101.json')\n",
      "data = json.load(response)[0]  "
     ],
     "language": "python",
     "metadata": {},
     "outputs": [],
     "prompt_number": 42
    },
    {
     "cell_type": "code",
     "collapsed": false,
     "input": [
      "print data['title']\n",
      "print data['url']\n",
      "print data['duration']\n",
      "print data['stats_number_of_plays']"
     ],
     "language": "python",
     "metadata": {},
     "outputs": [
      {
       "output_type": "stream",
       "stream": "stdout",
       "text": [
        "The Good Man trailer\n",
        "http://vimeo.com/57733101\n",
        "143\n",
        "2592\n"
       ]
      }
     ],
     "prompt_number": 43
    },
    {
     "cell_type": "markdown",
     "metadata": {
      "slideshow": {
       "slide_type": "slide"
      }
     },
     "source": [
      "## And much more"
     ]
    },
    {
     "cell_type": "markdown",
     "metadata": {},
     "source": [
      "- Fast file I/O with `numpy` and `pandas`\n",
      "- XML and HTML web scraping\n",
      "    - data tables on web pages\n",
      "    - XML from rss feeds\n",
      "- HDF5 data \n",
      "    - `pyTables` \n",
      "    - `h5py`\n",
      "- Interacting with databases, such as `sqlite3`"
     ]
    }
   ],
   "metadata": {}
  }
 ]
}