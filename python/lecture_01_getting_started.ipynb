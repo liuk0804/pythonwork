{
 "metadata": {
  "css": [
   ""
  ],
  "name": ""
 },
 "nbformat": 3,
 "nbformat_minor": 0,
 "worksheets": [
  {
   "cells": [
    {
     "cell_type": "markdown",
     "metadata": {
      "slideshow": {
       "slide_type": "slide"
      }
     },
     "source": [
      "# Python for Data Analysis\n",
      "\n",
      "<img src=\"files/img/wes_book.png\" style=\"height=300px;\">\n",
      "\n",
      "Monte Lunacek\n",
      "\n",
      "Research Computing, CU Boulder"
     ]
    },
    {
     "cell_type": "markdown",
     "metadata": {
      "slideshow": {
       "slide_type": "slide"
      }
     },
     "source": [
      "##Outline\n",
      "\n",
      "What is data?\n",
      "\n",
      "- Python basics **ipython**\n",
      "- Flow control, fucntions\n",
      "- **Numpy** and **Pandas**\n",
      "- Clean, transform, merge, reshape\n",
      "- Visualization **matplotlib**\n",
      "- Aggregation\n",
      "- Time series\n"
     ]
    },
    {
     "cell_type": "markdown",
     "metadata": {
      "slideshow": {
       "slide_type": "slide"
      }
     },
     "source": [
      "## Why Python for Data Analysis?\n",
      "\n",
      "- Python is great for scripting and applications.\n",
      "- The `pandas` library offers imporved library support.\n",
      "- Scraping, web APIs\n",
      "- Strong High Performance Computation support\n",
      "    - Load balanceing tasks\n",
      "    - MPI, GPU\n",
      "    - MapReduce\n",
      "- Strong support for abstraction\n",
      "    - Intel MKL\n",
      "    - HDF5\n",
      "- Environment"
     ]
    },
    {
     "cell_type": "markdown",
     "metadata": {
      "slideshow": {
       "slide_type": "notes"
      }
     },
     "source": [
      "This is a note"
     ]
    },
    {
     "cell_type": "markdown",
     "metadata": {
      "slideshow": {
       "slide_type": "slide"
      }
     },
     "source": [
      "## Why not python?\n",
      "\n",
      "- R, MATLAB are great!\n",
      "- Slow\n",
      "- Visualization\n",
      "    - Matplotlib is 10 years old now\n",
      "    - [Rob Story's vicent](https://github.com/wrobstory/vincent)\n",
      "    - [Bokeh](https://github.com/ContinuumIO/Bokeh)\n",
      "    - R's ggplot"
     ]
    },
    {
     "cell_type": "markdown",
     "metadata": {
      "slideshow": {
       "slide_type": "slide"
      }
     },
     "source": [
      "## Practice\n",
      "\n",
      "- The best way to learn python is to practice!\n",
      "- Think of anything else you have learned...\n",
      "- Type the exercises\n",
      "- Try to do them from memory\n",
      "- **Kata** (\u578b or \u5f62 literally: \"form\"?) is a Japanese word describing detailed choreographed patterns of movements practised either solo or in pairs.\n"
     ]
    },
    {
     "cell_type": "markdown",
     "metadata": {
      "slideshow": {
       "slide_type": "slide"
      }
     },
     "source": [
      "## References\n",
      "\n",
      "I didn't come up with all the examples!\n",
      "\n",
      "- [Learn Python the Hard Way](http://learnpythonthehardway.org/)\n",
      "- [Python for Data Analysis](http://shop.oreilly.com/product/0636920023784.do)\n",
      "- [J.R. Johansson's Lectures in Scientific Computing](http://dml.riken.jp/~rob/)"
     ]
    },
    {
     "cell_type": "markdown",
     "metadata": {
      "slideshow": {
       "slide_type": "slide"
      }
     },
     "source": [
      "#Getting Started with Python\n",
      "\n",
      "<img src=\"files/img/monty-python.png\">\n",
      "\n",
      "<blockquote>\n",
      "<p>\n",
      "Let us change our traditional attitude to the construction of programs: Instead of imagining that our main task is to instruct a computer what to do, let us concentrate rather on explaining to humans what we want the computer to do.</p> <p>Donald E. Knuth, Literate Programming, 1984</p>\n",
      "</blockquote>\n",
      "\n"
     ]
    },
    {
     "cell_type": "markdown",
     "metadata": {
      "slideshow": {
       "slide_type": "slide"
      }
     },
     "source": [
      "##What is Python?"
     ]
    },
    {
     "cell_type": "markdown",
     "metadata": {},
     "source": [
      "[Python](http://www.python.org/) is a modern, general-purpose, object-oriented, programming language.\n",
      "\n",
      "* Simple, clean syntax\n",
      "* Easy to learn\n",
      "* Interpreted\n",
      "* Dynamically typed\n",
      "* Runs everywhere: Linux, Mac, and Windows\n",
      "* [Free](http://www.fsf.org/), as in beer and speach\n",
      "* Expressive: do more with fewer lines of code\n",
      "* Lean: **modules**"
     ]
    },
    {
     "cell_type": "markdown",
     "metadata": {
      "slideshow": {
       "slide_type": "slide"
      }
     },
     "source": [
      "###History"
     ]
    },
    {
     "cell_type": "markdown",
     "metadata": {},
     "source": [
      "<blockquote><p>\n",
      "There is only one way to do it\n",
      "</p></blockquote>\n",
      "\n",
      "* Created by Dutch programmer **Guido van Rossum**, 1991\n",
      "* Provided administrative scripting for the Amoeba distributed OS.\n",
      "* Declared *Dictator for Life* by legions of followers.\n",
      "* Syntax from `C`\n",
      "* `lambda`, `reduce`, `filter`, and `map`\n",
      "    - a `Lisp` hacker who missed them\n",
      "* `Modula-3` inspired keyword arguments and `imports`\n",
      "\n"
     ]
    },
    {
     "cell_type": "markdown",
     "metadata": {
      "slideshow": {
       "slide_type": "slide"
      }
     },
     "source": [
      "###What can you do with Python?"
     ]
    },
    {
     "cell_type": "markdown",
     "metadata": {},
     "source": [
      "* Scripting lanugage\n",
      "    - os support\n",
      "    - glue existing applications\n",
      "* Scientific abstraction\n",
      "    - Use highly optimized C and Fortran libraies\n",
      "    - Intel MKL, HDF5, Blas, Lapack, MPI, Cuda\n",
      "* Data Analysis\n",
      "* Visualization\n",
      "* Scrape websites\n",
      "* Build websites\n",
      "* Anything!"
     ]
    },
    {
     "cell_type": "markdown",
     "metadata": {
      "slideshow": {
       "slide_type": "slide"
      }
     },
     "source": [
      "###Performance"
     ]
    },
    {
     "cell_type": "markdown",
     "metadata": {},
     "source": [
      "<blockquote>\n",
      "<p>\n",
      "The greatest performance improvement comes from going to the working state from the non-working state\n",
      "</p>\n",
      "</blockquote>"
     ]
    },
    {
     "cell_type": "markdown",
     "metadata": {},
     "source": [
      "* Minimal time required to develop code\n",
      "* Rapid protoytping\n",
      "* Interpreted and dynamically typed means it's slower\n",
      "    - Use optimized libraries: e.g. <a href=\"https://http://www.numpy.org\"> numpy </a>, <a href=\"https://http://scipy.org\"> scipy </a>\n",
      "    - Find the bottleneck and write it in C/C++/Fortran: e.g. <a href=\"http://www.scipy.org/F2py\"> f2py</a>, <a href=\"http://docs.cython.org/\">cython</a>\n",
      "    - Just-in-time: e.g. <a href=\"http://numba.pydata.org/\">numba</a>\n",
      "* Implementing the built-in Python modules would require some advanced programming skills in other languages"
     ]
    },
    {
     "cell_type": "markdown",
     "metadata": {
      "slideshow": {
       "slide_type": "slide"
      }
     },
     "source": [
      "###Advantages"
     ]
    },
    {
     "cell_type": "markdown",
     "metadata": {},
     "source": [
      "* Interpretive\n",
      "* Named function arguments\n",
      "* Heterogeneous data structures\n",
      "    - dictionary\n",
      "    - lists\n",
      "* No memory management\n",
      "* Print structures\n",
      "* Packages: large community of support\n",
      "* Modular: great for larger projects (modules)"
     ]
    },
    {
     "cell_type": "markdown",
     "metadata": {
      "slideshow": {
       "slide_type": "slide"
      }
     },
     "source": [
      "##Modules for Data Analysis"
     ]
    },
    {
     "cell_type": "markdown",
     "metadata": {},
     "source": [
      "<div class=\"col2\">\n",
      "Base\n",
      "<ul>\n",
      "<li><a href=\"http://ipython.org\">ipython</a>: interactive shell</li>\n",
      "<li><a href=\"https://http://www.numpy.org\"> numpy </a>: array and matrix library</li>\n",
      "<li><a href=\"https://http://scipy.org\"> scipy </a>: scientific libraries</li>\n",
      "<li><a href=\"http://matplotlib.sourceforge.net/\">matplotlib </a>: visualization</li>\n",
      "<li><a href=\"http://pandas.pydata.org/\">pandas </a>: data frames </li>\n",
      "</ul>\n",
      "</div>"
     ]
    },
    {
     "cell_type": "markdown",
     "metadata": {},
     "source": [
      "<div class=\"col2\">\n",
      "Additional\n",
      "<ul>\n",
      "\n",
      "<li> <a href=\"http://docs.python-requests.org/en/latest/\">Requests</a>: data from the web </li>\n",
      "<li> <a href=\"http://www.crummy.com/software/BeautifulSoup/\">Beautiful Soup</a>: parse web pages </li>\n",
      "<li> <a href=\"http://www.pytables.org/moin\">pytables </a>: fast, binary files </li>\n",
      "<li> <a href=\"http://docs.python.org/2/library/sqlite3.html\">sqlite3</a>: binding for sqlite3 </li>\n",
      "<li> <a href=\"http://spark.incubator.apache.org/\">spark</a>: in-memory MapReduce </li>\n",
      "<li> <a href=\"http://discoproject.org/\">disco</a>: MapReduce </li>\n",
      "\n",
      "</ul>\n",
      "</div>"
     ]
    },
    {
     "cell_type": "markdown",
     "metadata": {
      "slideshow": {
       "slide_type": "slide"
      }
     },
     "source": [
      "## Modules for High Performance Computing"
     ]
    },
    {
     "cell_type": "markdown",
     "metadata": {
      "slideshow": {
       "slide_type": "subslide"
      }
     },
     "source": [
      "* <a href=\"http://ipython.org/ipython-doc/dev/parallel/\">ipython parallel</a>: Interactive MPI, direct, and load balanced\n",
      "* <a href=\"http://mpi4py.scipy.org/\">mpi4py </a>: MPI Bindings\n",
      "* <a href=\"http://docs.cython.org/src/userguide/parallelism.html\">cython.parallel </a>:  OpenMP\n",
      "* <a href=\"http://docs.python.org/2/library/multiprocessing.html\">multiprocessing</a>: Quick parallel tasks\n",
      "* <a href=\"http://mathema.tician.de/software/pycuda\">pycuda</a>: GPU\n",
      "* <a href=\"https://store.continuum.io/cshop/accelerate/\">Accelerate</a>: GPU"
     ]
    },
    {
     "cell_type": "markdown",
     "metadata": {
      "slideshow": {
       "slide_type": "slide"
      }
     },
     "source": [
      "##Python environments\n",
      "\n",
      "The standard interpreter for python is called [CPython](http://en.wikipedia.org/wiki/CPython).\n",
      "\n",
      "Several environments:\n",
      "\n",
      "* Python interpreter\n",
      "    - script\n",
      "    - interactive\n",
      "* IPython [interactive shell](http://ipython.org/index.html)\n",
      "* [CANOPY](https://www.enthought.com/products/canopy/): a Python IDE\n",
      "* IPython [notebook](http://ipython.org/notebook.html)\n",
      "\n"
     ]
    },
    {
     "cell_type": "markdown",
     "metadata": {
      "slideshow": {
       "slide_type": "slide"
      }
     },
     "source": [
      "###Python interpreter"
     ]
    },
    {
     "cell_type": "markdown",
     "metadata": {},
     "source": [
      "<img src=\"files/img/script.png\">\n",
      "\n",
      "<blockquote>\n",
      "<p>\n",
      "We wanted users to be able to begin in an interactive environment, where they did not consciously think of themselves as programming. Then as their needs became clearer and their sophistication increased, they should be able to slide gradually into programming, when the language and system aspects would become more important.</p> <p>John Chambers (from Roger Peng's coursera course)</p>\n",
      "</blockquote> \n",
      "\n",
      "\n",
      "<img src=\"files/img/python-terminal.png\">    "
     ]
    },
    {
     "cell_type": "markdown",
     "metadata": {
      "slideshow": {
       "slide_type": "slide"
      }
     },
     "source": [
      "###IPython interactive shell"
     ]
    },
    {
     "cell_type": "markdown",
     "metadata": {},
     "source": [
      "<img src=\"files/img/ipython-terminal.png\">\n",
      "\n",
      "* Explore-execute vs. Edit-run\n",
      "* OS support\n",
      "* Tab completion\n",
      "* Introspection\n",
      "* Execute from clipboard\n",
      "* Keyboard shortcuts\n",
      "* Command history\n",
      "* Magic commands"
     ]
    },
    {
     "cell_type": "markdown",
     "metadata": {
      "slideshow": {
       "slide_type": "slide"
      }
     },
     "source": [
      "###CANOPY"
     ]
    },
    {
     "cell_type": "markdown",
     "metadata": {},
     "source": [
      "<img src=\"files/img/canopy.png\">\n",
      "\n",
      "* Runs same versions on Windows, Mac, Linux"
     ]
    },
    {
     "cell_type": "markdown",
     "metadata": {
      "slideshow": {
       "slide_type": "slide"
      }
     },
     "source": [
      "### Notebook"
     ]
    },
    {
     "cell_type": "markdown",
     "metadata": {},
     "source": [
      "<img src=\"files/img/notebook.png\">\n",
      "\n",
      "* Python from a browser (or CANOPY)"
     ]
    },
    {
     "cell_type": "markdown",
     "metadata": {
      "slideshow": {
       "slide_type": "slide"
      }
     },
     "source": [
      "### Interative Workflow"
     ]
    },
    {
     "cell_type": "markdown",
     "metadata": {},
     "source": [
      "* Write code using your text editor:\n",
      "    - Linux [gedit](https://projects.gnome.org/gedit/), \n",
      "    - Mac [Text Wrangler](http://www.barebones.com/products/textwrangler/)\n",
      "    - Windows [Notepad ++](http://notepad-plus-plus.org/)\n",
      "    - All [Sublime Text](http://www.sublimetext.com/), **CANOPY**\n",
      "* Run your code (often) in a **IPython** or **python** terminal\n",
      "* Fix issues\n",
      "* Repeat"
     ]
    },
    {
     "cell_type": "markdown",
     "metadata": {
      "slideshow": {
       "slide_type": "slide"
      }
     },
     "source": [
      "## Versions of Python"
     ]
    },
    {
     "cell_type": "markdown",
     "metadata": {},
     "source": [
      "* Python 2\n",
      "* Python 3\n",
      "* Module versions\n",
      "    - ipython\n",
      "    - numpy\n",
      "    - pandas\n",
      "    - matplotlib"
     ]
    }
   ],
   "metadata": {}
  }
 ]
}