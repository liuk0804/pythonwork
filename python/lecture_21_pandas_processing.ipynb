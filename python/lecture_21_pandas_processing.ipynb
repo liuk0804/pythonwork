{
 "metadata": {
  "name": ""
 },
 "nbformat": 3,
 "nbformat_minor": 0,
 "worksheets": [
  {
   "cells": [
    {
     "cell_type": "markdown",
     "metadata": {},
     "source": [
      "#Data Processing\n",
      "\n",
      "**cleaning**, **munging**\n",
      "\n",
      "\n",
      "> 80% of the effort in data analysis is spent cleaning data ([cite](http://vita.had.co.nz/papers/tidy-data.pdf))\n",
      "\n",
      "The work required to make your dataset easy to analyze.\n",
      "\n",
      "- Easy to use column names\n",
      "- Fixing inconsistent variables\n",
      "- Merging with other datasets\n",
      "- Reshaping (melt, pivot, ect..)\n",
      "- Dealing with missing values\n",
      "\n",
      "## Tidy data\n",
      "\n",
      "- [Hadley's paper](http://vita.had.co.nz/papers/tidy-data.pdf)\n",
      "- [Lecture for R users](http://vita.had.co.nz/papers/tidy-data-pres.pdf)\n",
      "\n",
      "General Idea:\n",
      "\n",
      "- Each varaible forms a column\n",
      "- Each row is an observation\n",
      "- Each table stores a single type of observation type\n",
      "\n",
      "> A general rule of thumb is that it is easier describe a functional relationships between columns(variables) than between rows, and it is easier to make comparisions between groups of rows (observations) than between columns.  -- Hadley, Tidy Data\n",
      "\n",
      "**Argument**: Tidy data makes it easier to *manipulate*, *visualize*, and *model* your data.\n"
     ]
    },
    {
     "cell_type": "markdown",
     "metadata": {},
     "source": [
      "##Example\n",
      "\n",
      "Taken from [Hadley's paper](http://vita.had.co.nz/papers/tidy-data.pdf)"
     ]
    },
    {
     "cell_type": "code",
     "collapsed": false,
     "input": [
      "import os\n",
      "import pandas as pd"
     ],
     "language": "python",
     "metadata": {},
     "outputs": [],
     "prompt_number": 1
    },
    {
     "cell_type": "code",
     "collapsed": false,
     "input": [
      "names = ['Jonh Smith','Jane Doe','Mary Johnson']\n",
      "treatmentA = [None,1,2]\n",
      "treatmentB = [5,4,3]\n",
      "\n",
      "messy = pd.DataFrame({'name': names, 'A': treatmentA, 'B': treatmentB})\n",
      "print messy"
     ],
     "language": "python",
     "metadata": {},
     "outputs": [
      {
       "output_type": "stream",
       "stream": "stdout",
       "text": [
        "    A  B          name\n",
        "0 NaN  5    Jonh Smith\n",
        "1   1  4      Jane Doe\n",
        "2   2  3  Mary Johnson\n"
       ]
      }
     ],
     "prompt_number": 182
    },
    {
     "cell_type": "markdown",
     "metadata": {},
     "source": [
      "What are the variables in this experiment?\n",
      "\n",
      "What are the observations?"
     ]
    },
    {
     "cell_type": "code",
     "collapsed": false,
     "input": [
      "tidy = pd.melt(messy, id_vars=['name'])\n",
      "print tidy"
     ],
     "language": "python",
     "metadata": {},
     "outputs": [
      {
       "output_type": "stream",
       "stream": "stdout",
       "text": [
        "           name variable  value\n",
        "0    Jonh Smith        A    NaN\n",
        "1      Jane Doe        A      1\n",
        "2  Mary Johnson        A      2\n",
        "3    Jonh Smith        B      5\n",
        "4      Jane Doe        B      4\n",
        "5  Mary Johnson        B      3\n"
       ]
      }
     ],
     "prompt_number": 183
    },
    {
     "cell_type": "code",
     "collapsed": false,
     "input": [
      "tidy.columns = ['name','treatment','result']\n",
      "print tidy"
     ],
     "language": "python",
     "metadata": {},
     "outputs": [
      {
       "output_type": "stream",
       "stream": "stdout",
       "text": [
        "           name treatment  result\n",
        "0    Jonh Smith         A     NaN\n",
        "1      Jane Doe         A       1\n",
        "2  Mary Johnson         A       2\n",
        "3    Jonh Smith         B       5\n",
        "4      Jane Doe         B       4\n",
        "5  Mary Johnson         B       3\n"
       ]
      }
     ],
     "prompt_number": 184
    },
    {
     "cell_type": "markdown",
     "metadata": {},
     "source": [
      "## Examples we have already seen\n",
      "\n",
      "- **Names data**: One file for each year.  We made it tidy be creating one dataset.\n",
      "- **Movies**: Made it tidy be merging files."
     ]
    },
    {
     "cell_type": "markdown",
     "metadata": {},
     "source": [
      "## Camera data\n",
      "\n",
      "From Jeff Leeks [Data Analysis Course](https://github.com/jtleek/dataanalysis)"
     ]
    },
    {
     "cell_type": "code",
     "collapsed": false,
     "input": [
      "camera = pd.read_csv(os.path.join('data','cameras.csv'))\n",
      "print camera.head()"
     ],
     "language": "python",
     "metadata": {},
     "outputs": [
      {
       "output_type": "stream",
       "stream": "stdout",
       "text": [
        "                          address direction       street   crossStreet  \\\n",
        "0        S CATON AVE & BENSON AVE       N/B    Caton Ave    Benson Ave   \n",
        "1        S CATON AVE & BENSON AVE       S/B    Caton Ave    Benson Ave   \n",
        "2  WILKENS AVE & PINE HEIGHTS AVE       E/B  Wilkens Ave  Pine Heights   \n",
        "3         THE ALAMEDA & E 33RD ST       S/B  The Alameda       33rd St   \n",
        "4         E 33RD ST & THE ALAMEDA       E/B       E 33rd   The Alameda   \n",
        "\n",
        "                 intersection                       Location 1  \n",
        "0      Caton Ave & Benson Ave  (39.2693779962, -76.6688185297)  \n",
        "1      Caton Ave & Benson Ave  (39.2693157898, -76.6689698176)  \n",
        "2  Wilkens Ave & Pine Heights   (39.2720252302, -76.676960806)  \n",
        "3      The Alameda  & 33rd St  (39.3285013141, -76.5953545714)  \n",
        "4       E 33rd  & The Alameda  (39.3283410623, -76.5953594625)  \n"
       ]
      }
     ],
     "prompt_number": 2
    },
    {
     "cell_type": "markdown",
     "metadata": {},
     "source": [
      "Let's make the columns more standard."
     ]
    },
    {
     "cell_type": "code",
     "collapsed": false,
     "input": [
      "camera.columns"
     ],
     "language": "python",
     "metadata": {},
     "outputs": [
      {
       "metadata": {},
       "output_type": "pyout",
       "prompt_number": 3,
       "text": [
        "Index([u'address', u'direction', u'street', u'crossStreet', u'intersection', u'Location 1'], dtype=object)"
       ]
      }
     ],
     "prompt_number": 3
    },
    {
     "cell_type": "code",
     "collapsed": false,
     "input": [
      "new_names = map(str.lower, camera.columns)\n",
      "new_names = [ x.lower() for x in camera.columns ]\n",
      "print new_names"
     ],
     "language": "python",
     "metadata": {},
     "outputs": [
      {
       "output_type": "stream",
       "stream": "stdout",
       "text": [
        "['address', 'direction', 'street', 'crossstreet', 'intersection', 'location 1']\n"
       ]
      }
     ],
     "prompt_number": 4
    },
    {
     "cell_type": "code",
     "collapsed": false,
     "input": [
      "new_names = [ x.lower().split()[0] for x in camera.columns ]\n",
      "print new_names"
     ],
     "language": "python",
     "metadata": {},
     "outputs": [
      {
       "output_type": "stream",
       "stream": "stdout",
       "text": [
        "['address', 'direction', 'street', 'crossstreet', 'intersection', 'location']\n"
       ]
      }
     ],
     "prompt_number": 5
    },
    {
     "cell_type": "markdown",
     "metadata": {},
     "source": [
      "Putting it all together..."
     ]
    },
    {
     "cell_type": "code",
     "collapsed": false,
     "input": [
      "camera.columns = [ x.lower().split()[0] for x in camera.columns ]\n",
      "print camera.head()"
     ],
     "language": "python",
     "metadata": {},
     "outputs": [
      {
       "output_type": "stream",
       "stream": "stdout",
       "text": [
        "                          address direction       street   crossstreet  \\\n",
        "0        S CATON AVE & BENSON AVE       N/B    Caton Ave    Benson Ave   \n",
        "1        S CATON AVE & BENSON AVE       S/B    Caton Ave    Benson Ave   \n",
        "2  WILKENS AVE & PINE HEIGHTS AVE       E/B  Wilkens Ave  Pine Heights   \n",
        "3         THE ALAMEDA & E 33RD ST       S/B  The Alameda       33rd St   \n",
        "4         E 33RD ST & THE ALAMEDA       E/B       E 33rd   The Alameda   \n",
        "\n",
        "                 intersection                         location  \n",
        "0      Caton Ave & Benson Ave  (39.2693779962, -76.6688185297)  \n",
        "1      Caton Ave & Benson Ave  (39.2693157898, -76.6689698176)  \n",
        "2  Wilkens Ave & Pine Heights   (39.2720252302, -76.676960806)  \n",
        "3      The Alameda  & 33rd St  (39.3285013141, -76.5953545714)  \n",
        "4       E 33rd  & The Alameda  (39.3283410623, -76.5953594625)  \n"
       ]
      }
     ],
     "prompt_number": 6
    },
    {
     "cell_type": "markdown",
     "metadata": {},
     "source": [
      "### What if we want to split location into latitude and longitude?"
     ]
    },
    {
     "cell_type": "markdown",
     "metadata": {},
     "source": [
      "Method one: `map` on location."
     ]
    },
    {
     "cell_type": "code",
     "collapsed": false,
     "input": [
      "def get_lat(x):\n",
      "    tmp = x.replace('(','')\n",
      "    tmp = tmp.replace(')','')\n",
      "    lat = float(tmp.split(',')[0])\n",
      "    return lat"
     ],
     "language": "python",
     "metadata": {},
     "outputs": [],
     "prompt_number": 7
    },
    {
     "cell_type": "code",
     "collapsed": false,
     "input": [
      "lat = camera['location'].map(get_lat)\n",
      "print lat.head()"
     ],
     "language": "python",
     "metadata": {},
     "outputs": [
      {
       "output_type": "stream",
       "stream": "stdout",
       "text": [
        "0    39.269378\n",
        "1    39.269316\n",
        "2    39.272025\n",
        "3    39.328501\n",
        "4    39.328341\n",
        "Name: location, dtype: float64\n"
       ]
      }
     ],
     "prompt_number": 8
    },
    {
     "cell_type": "code",
     "collapsed": false,
     "input": [
      "tmp = camera.copy()\n",
      "tmp['lat'] = lat\n",
      "print tmp.head()"
     ],
     "language": "python",
     "metadata": {},
     "outputs": [
      {
       "output_type": "stream",
       "stream": "stdout",
       "text": [
        "                          address direction       street   crossstreet  \\\n",
        "0        S CATON AVE & BENSON AVE       N/B    Caton Ave    Benson Ave   \n",
        "1        S CATON AVE & BENSON AVE       S/B    Caton Ave    Benson Ave   \n",
        "2  WILKENS AVE & PINE HEIGHTS AVE       E/B  Wilkens Ave  Pine Heights   \n",
        "3         THE ALAMEDA & E 33RD ST       S/B  The Alameda       33rd St   \n",
        "4         E 33RD ST & THE ALAMEDA       E/B       E 33rd   The Alameda   \n",
        "\n",
        "                 intersection                         location        lat  \n",
        "0      Caton Ave & Benson Ave  (39.2693779962, -76.6688185297)  39.269378  \n",
        "1      Caton Ave & Benson Ave  (39.2693157898, -76.6689698176)  39.269316  \n",
        "2  Wilkens Ave & Pine Heights   (39.2720252302, -76.676960806)  39.272025  \n",
        "3      The Alameda  & 33rd St  (39.3285013141, -76.5953545714)  39.328501  \n",
        "4       E 33rd  & The Alameda  (39.3283410623, -76.5953594625)  39.328341  \n"
       ]
      }
     ],
     "prompt_number": 9
    },
    {
     "cell_type": "code",
     "collapsed": false,
     "input": [
      "def rt(x):\n",
      "    return (1,2,3)"
     ],
     "language": "python",
     "metadata": {},
     "outputs": [],
     "prompt_number": 10
    },
    {
     "cell_type": "code",
     "collapsed": false,
     "input": [
      "tmp['x'] = camera['location'].map(rt)\n",
      "print type(tmp.ix[0]['x'])"
     ],
     "language": "python",
     "metadata": {},
     "outputs": [
      {
       "output_type": "stream",
       "stream": "stdout",
       "text": [
        "<type 'tuple'>\n"
       ]
      }
     ],
     "prompt_number": 11
    },
    {
     "cell_type": "markdown",
     "metadata": {},
     "source": [
      "Method two: `apply` on the location.\n",
      "\n",
      "Come back to this...."
     ]
    },
    {
     "cell_type": "code",
     "collapsed": false,
     "input": [
      "def split_location(x):\n",
      "    tmp = x.replace('(','')\n",
      "    tmp = tmp.replace(')','')\n",
      "    val = pd.Series(tmp.split(',')).astype(np.float)\n",
      "    #print type(val)\n",
      "    return val"
     ],
     "language": "python",
     "metadata": {},
     "outputs": [],
     "prompt_number": 15
    },
    {
     "cell_type": "code",
     "collapsed": false,
     "input": [
      "tmp = camera['location'].apply(split_location)\n",
      "tmp.columns = ['lat','log']\n",
      "print type(tmp)\n",
      "print tmp.head()"
     ],
     "language": "python",
     "metadata": {},
     "outputs": [
      {
       "output_type": "stream",
       "stream": "stdout",
       "text": [
        "<class 'pandas.core.frame.DataFrame'>\n",
        "         lat        log\n",
        "0  39.269378 -76.668819\n",
        "1  39.269316 -76.668970\n",
        "2  39.272025 -76.676961\n",
        "3  39.328501 -76.595355\n",
        "4  39.328341 -76.595359\n"
       ]
      }
     ],
     "prompt_number": 17
    },
    {
     "cell_type": "markdown",
     "metadata": {},
     "source": [
      "Merge them togther."
     ]
    },
    {
     "cell_type": "code",
     "collapsed": false,
     "input": [
      "final = pd.concat([camera,tmp], axis=1)\n",
      "print final.head()"
     ],
     "language": "python",
     "metadata": {},
     "outputs": [
      {
       "output_type": "stream",
       "stream": "stdout",
       "text": [
        "                          address direction       street   crossstreet  \\\n",
        "0        S CATON AVE & BENSON AVE       N/B    Caton Ave    Benson Ave   \n",
        "1        S CATON AVE & BENSON AVE       S/B    Caton Ave    Benson Ave   \n",
        "2  WILKENS AVE & PINE HEIGHTS AVE       E/B  Wilkens Ave  Pine Heights   \n",
        "3         THE ALAMEDA & E 33RD ST       S/B  The Alameda       33rd St   \n",
        "4         E 33RD ST & THE ALAMEDA       E/B       E 33rd   The Alameda   \n",
        "\n",
        "                 intersection                         location        lat  \\\n",
        "0      Caton Ave & Benson Ave  (39.2693779962, -76.6688185297)  39.269378   \n",
        "1      Caton Ave & Benson Ave  (39.2693157898, -76.6689698176)  39.269316   \n",
        "2  Wilkens Ave & Pine Heights   (39.2720252302, -76.676960806)  39.272025   \n",
        "3      The Alameda  & 33rd St  (39.3285013141, -76.5953545714)  39.328501   \n",
        "4       E 33rd  & The Alameda  (39.3283410623, -76.5953594625)  39.328341   \n",
        "\n",
        "         log  \n",
        "0 -76.668819  \n",
        "1 -76.668970  \n",
        "2 -76.676961  \n",
        "3 -76.595355  \n",
        "4 -76.595359  \n"
       ]
      }
     ],
     "prompt_number": 18
    },
    {
     "cell_type": "code",
     "collapsed": false,
     "input": [
      "print pd.melt(final[['crossstreet','street','lat','log']], id_vars=['crossstreet','street']).head()"
     ],
     "language": "python",
     "metadata": {},
     "outputs": [
      {
       "output_type": "stream",
       "stream": "stdout",
       "text": [
        "    crossstreet       street variable      value\n",
        "0    Benson Ave    Caton Ave      lat  39.269378\n",
        "1    Benson Ave    Caton Ave      lat  39.269316\n",
        "2  Pine Heights  Wilkens Ave      lat  39.272025\n",
        "3       33rd St  The Alameda      lat  39.328501\n",
        "4   The Alameda       E 33rd      lat  39.328341\n"
       ]
      }
     ],
     "prompt_number": 19
    },
    {
     "cell_type": "code",
     "collapsed": false,
     "input": [],
     "language": "python",
     "metadata": {},
     "outputs": []
    }
   ],
   "metadata": {}
  }
 ]
}