{
 "metadata": {
  "css": [
   ""
  ],
  "name": ""
 },
 "nbformat": 3,
 "nbformat_minor": 0,
 "worksheets": [
  {
   "cells": [
    {
     "cell_type": "markdown",
     "metadata": {},
     "source": [
      "#Exercise: Classification"
     ]
    },
    {
     "cell_type": "markdown",
     "metadata": {},
     "source": [
      "*Supervised learning* algorithms take a set of attributes (or features) and assigns them a class label based on a set of known instances.  Examples include spam filters for email and fraudulent transactions for credit cards. The nearest-neighbor classifier is one of the more simple *supervised learning* algorithms.  Given a known set of class instances, the nearest-neighbor algorithm simply computes the distance from the unknown candidate to all other instances in the set.  The unknown candidate is assigned the class label of the closest instance. \n",
      "\n",
      "This example splits the `iris` dataset into two sets. We pretend we don't know the class of the second set and use the nearest-neighbor classifier to guess the correct class.\n",
      "\n",
      "This example is taken from Phillipp Janert's book, [Data Analysis with Open Source Tools](http://shop.oreilly.com/product/9780596802363.do)."
     ]
    },
    {
     "cell_type": "markdown",
     "metadata": {},
     "source": [
      "## Data"
     ]
    },
    {
     "cell_type": "markdown",
     "metadata": {},
     "source": [
      "- The known set of classes is often called the *training data*.  \n",
      "- We test the classifiers effectiveness on the *test data*."
     ]
    },
    {
     "cell_type": "code",
     "collapsed": false,
     "input": [
      "import os\n",
      "filename = os.path.join('data','iris_train.csv')\n",
      "train = np.loadtxt(filename, delimiter=',', usecols=(0,1,2,3), skiprows=1)\n",
      "train_label = np.loadtxt(filename, delimiter=',', usecols=(4,), skiprows=1, dtype=str)"
     ],
     "language": "python",
     "metadata": {},
     "outputs": [],
     "prompt_number": 21
    },
    {
     "cell_type": "code",
     "collapsed": false,
     "input": [
      "print iris[1:5,]"
     ],
     "language": "python",
     "metadata": {},
     "outputs": [
      {
       "output_type": "stream",
       "stream": "stdout",
       "text": [
        "[[ 4.9  3.   1.4  0.2]\n",
        " [ 4.7  3.2  1.3  0.2]\n",
        " [ 4.6  3.1  1.5  0.2]\n",
        " [ 5.   3.6  1.4  0.2]]\n"
       ]
      }
     ],
     "prompt_number": 22
    },
    {
     "cell_type": "code",
     "collapsed": false,
     "input": [
      "print np.unique(train_label)"
     ],
     "language": "python",
     "metadata": {},
     "outputs": [
      {
       "output_type": "stream",
       "stream": "stdout",
       "text": [
        "['Iris-setosa' 'Iris-versicolor' 'Iris-virginica']\n"
       ]
      }
     ],
     "prompt_number": 24
    },
    {
     "cell_type": "code",
     "collapsed": false,
     "input": [
      "filename = os.path.join('data','iris_test.csv')\n",
      "test = np.loadtxt(filename, delimiter=',', usecols=(0,1,2,3), skiprows=1)\n",
      "test_label = np.loadtxt(filename, delimiter=',', usecols=(4,), skiprows=1, dtype=str)\n",
      "print test[1:5,]"
     ],
     "language": "python",
     "metadata": {},
     "outputs": [
      {
       "output_type": "stream",
       "stream": "stdout",
       "text": [
        "[[ 5.4  3.9  1.3  0.4]\n",
        " [ 5.   3.6  1.4  0.2]\n",
        " [ 4.6  3.4  1.4  0.3]\n",
        " [ 5.   3.4  1.6  0.4]]\n"
       ]
      }
     ],
     "prompt_number": 34
    },
    {
     "cell_type": "markdown",
     "metadata": {},
     "source": [
      "## Classify\n",
      "\n"
     ]
    },
    {
     "cell_type": "code",
     "collapsed": false,
     "input": [
      "est = []\n",
      "for i in xrange(test.shape[0]):\n",
      "    diff = test[i] - train # broadcasting\n",
      "    dist = sqrt(np.sum(diff*diff, axis=1))\n",
      "    \n",
      "    # best fit\n",
      "    dist_index = np.argmin(dist)\n",
      "    train_label[dist_index]\n",
      "    est.append(train_label[dist_index])"
     ],
     "language": "python",
     "metadata": {},
     "outputs": [],
     "prompt_number": 35
    },
    {
     "cell_type": "markdown",
     "metadata": {},
     "source": [
      "## How did we do?"
     ]
    },
    {
     "cell_type": "code",
     "collapsed": false,
     "input": [
      "correct = 0\n",
      "incorrect = 0\n",
      "\n",
      "for i, c in enumerate(est):\n",
      "    if c == test_label[i]:\n",
      "        correct += 1\n",
      "    else:\n",
      "        incorrect += 1"
     ],
     "language": "python",
     "metadata": {},
     "outputs": [],
     "prompt_number": 36
    },
    {
     "cell_type": "code",
     "collapsed": false,
     "input": [
      "print correct, incorrect"
     ],
     "language": "python",
     "metadata": {},
     "outputs": [
      {
       "output_type": "stream",
       "stream": "stdout",
       "text": [
        "14 1\n"
       ]
      }
     ],
     "prompt_number": 37
    },
    {
     "cell_type": "code",
     "collapsed": false,
     "input": [
      "print correct/float(len(est))*100"
     ],
     "language": "python",
     "metadata": {},
     "outputs": [
      {
       "output_type": "stream",
       "stream": "stdout",
       "text": [
        "93.3333333333\n"
       ]
      }
     ],
     "prompt_number": 39
    },
    {
     "cell_type": "code",
     "collapsed": false,
     "input": [],
     "language": "python",
     "metadata": {},
     "outputs": []
    }
   ],
   "metadata": {}
  }
 ]
}