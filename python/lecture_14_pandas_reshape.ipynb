{
 "metadata": {
  "css": [
   ""
  ],
  "name": ""
 },
 "nbformat": 3,
 "nbformat_minor": 0,
 "worksheets": [
  {
   "cells": [
    {
     "cell_type": "markdown",
     "metadata": {},
     "source": [
      "#Reshaping\n",
      "\n",
      "pivot, melt, stack, unstack"
     ]
    },
    {
     "cell_type": "code",
     "collapsed": false,
     "input": [
      "import pandas as pd"
     ],
     "language": "python",
     "metadata": {},
     "outputs": [],
     "prompt_number": 23
    },
    {
     "cell_type": "markdown",
     "metadata": {},
     "source": [
      "##Outline\n",
      "\n",
      "- **melt**: the \"stacked\" fromat\n",
      "- **pivot**: the \"wide\" format\n",
      "- Hierarchical index (multi-index)\n",
      "    - **unstack()**\n",
      "    - **stack()**"
     ]
    },
    {
     "cell_type": "markdown",
     "metadata": {},
     "source": [
      "## Stacked format with `melt`\n",
      "\n",
      "Cheese data from [http://media.eatwisconsincheese.com/](http://media.eatwisconsincheese.com/assets/images/pdf/WisconsinDairyData.pdf)\n",
      "\n",
      "Joke reference [http://pandas.pydata.org](http://pandas.pydata.org/pandas-docs/stable/reshaping.html)"
     ]
    },
    {
     "cell_type": "code",
     "collapsed": false,
     "input": [
      "cheese = pd.DataFrame({'type' : ['American', 'Italian','Muenster','brick','Mozzerella'],\n",
      "                    'prod' : [794538,1348636,50108,3054,898721],\n",
      "                    'percent' : [18.8, 29.5, 34.2, 26.7, 25.2],\n",
      "                    'rank' : [1,2,1,2,2]})\n",
      "cheese['product'] = 'cheese'\n",
      "print cheese.head()"
     ],
     "language": "python",
     "metadata": {},
     "outputs": [
      {
       "output_type": "stream",
       "stream": "stdout",
       "text": [
        "   percent     prod  rank        type product\n",
        "0     18.8   794538     1    American  cheese\n",
        "1     29.5  1348636     2     Italian  cheese\n",
        "2     34.2    50108     1    Muenster  cheese\n",
        "3     26.7     3054     2       brick  cheese\n",
        "4     25.2   898721     2  Mozzerella  cheese\n"
       ]
      }
     ],
     "prompt_number": 24
    },
    {
     "cell_type": "code",
     "collapsed": false,
     "input": [
      "cheese = cheese.reindex(columns=['product','type','prod','percent','rank'])\n",
      "print cheese.head()"
     ],
     "language": "python",
     "metadata": {},
     "outputs": [
      {
       "output_type": "stream",
       "stream": "stdout",
       "text": [
        "  product        type     prod  percent  rank\n",
        "0  cheese    American   794538     18.8     1\n",
        "1  cheese     Italian  1348636     29.5     2\n",
        "2  cheese    Muenster    50108     34.2     1\n",
        "3  cheese       brick     3054     26.7     2\n",
        "4  cheese  Mozzerella   898721     25.2     2\n"
       ]
      }
     ],
     "prompt_number": 25
    },
    {
     "cell_type": "code",
     "collapsed": false,
     "input": [
      "cheese_stack = pd.melt(cheese, id_vars=['product','type','rank'])\n",
      "print cheese_stack"
     ],
     "language": "python",
     "metadata": {},
     "outputs": [
      {
       "output_type": "stream",
       "stream": "stdout",
       "text": [
        "  product        type  rank variable      value\n",
        "0  cheese    American     1     prod   794538.0\n",
        "1  cheese     Italian     2     prod  1348636.0\n",
        "2  cheese    Muenster     1     prod    50108.0\n",
        "3  cheese       brick     2     prod     3054.0\n",
        "4  cheese  Mozzerella     2     prod   898721.0\n",
        "5  cheese    American     1  percent       18.8\n",
        "6  cheese     Italian     2  percent       29.5\n",
        "7  cheese    Muenster     1  percent       34.2\n",
        "8  cheese       brick     2  percent       26.7\n",
        "9  cheese  Mozzerella     2  percent       25.2\n"
       ]
      }
     ],
     "prompt_number": 26
    },
    {
     "cell_type": "code",
     "collapsed": false,
     "input": [
      "cheese_stack = pd.melt(cheese, id_vars=['product','type'])\n",
      "print cheese_stack"
     ],
     "language": "python",
     "metadata": {},
     "outputs": [
      {
       "output_type": "stream",
       "stream": "stdout",
       "text": [
        "   product        type variable      value\n",
        "0   cheese    American     prod   794538.0\n",
        "1   cheese     Italian     prod  1348636.0\n",
        "2   cheese    Muenster     prod    50108.0\n",
        "3   cheese       brick     prod     3054.0\n",
        "4   cheese  Mozzerella     prod   898721.0\n",
        "5   cheese    American  percent       18.8\n",
        "6   cheese     Italian  percent       29.5\n",
        "7   cheese    Muenster  percent       34.2\n",
        "8   cheese       brick  percent       26.7\n",
        "9   cheese  Mozzerella  percent       25.2\n",
        "10  cheese    American     rank        1.0\n",
        "11  cheese     Italian     rank        2.0\n",
        "12  cheese    Muenster     rank        1.0\n",
        "13  cheese       brick     rank        2.0\n",
        "14  cheese  Mozzerella     rank        2.0\n"
       ]
      }
     ],
     "prompt_number": 27
    },
    {
     "cell_type": "markdown",
     "metadata": {},
     "source": [
      "## `pivot` back to wide format"
     ]
    },
    {
     "cell_type": "code",
     "collapsed": false,
     "input": [
      "print cheese_stack.pivot(index='type', columns='variable', values='value')"
     ],
     "language": "python",
     "metadata": {},
     "outputs": [
      {
       "output_type": "stream",
       "stream": "stdout",
       "text": [
        "variable    percent     prod  rank\n",
        "type                              \n",
        "American       18.8   794538     1\n",
        "Italian        29.5  1348636     2\n",
        "Mozzerella     25.2   898721     2\n",
        "Muenster       34.2    50108     1\n",
        "brick          26.7     3054     2\n"
       ]
      }
     ],
     "prompt_number": 28
    },
    {
     "cell_type": "markdown",
     "metadata": {},
     "source": [
      "We lost the `product` column."
     ]
    },
    {
     "cell_type": "markdown",
     "metadata": {},
     "source": [
      "## multi-index, stack, unstack"
     ]
    },
    {
     "cell_type": "code",
     "collapsed": false,
     "input": [
      "print cheese_stack"
     ],
     "language": "python",
     "metadata": {},
     "outputs": [
      {
       "output_type": "stream",
       "stream": "stdout",
       "text": [
        "   product        type variable      value\n",
        "0   cheese    American     prod   794538.0\n",
        "1   cheese     Italian     prod  1348636.0\n",
        "2   cheese    Muenster     prod    50108.0\n",
        "3   cheese       brick     prod     3054.0\n",
        "4   cheese  Mozzerella     prod   898721.0\n",
        "5   cheese    American  percent       18.8\n",
        "6   cheese     Italian  percent       29.5\n",
        "7   cheese    Muenster  percent       34.2\n",
        "8   cheese       brick  percent       26.7\n",
        "9   cheese  Mozzerella  percent       25.2\n",
        "10  cheese    American     rank        1.0\n",
        "11  cheese     Italian     rank        2.0\n",
        "12  cheese    Muenster     rank        1.0\n",
        "13  cheese       brick     rank        2.0\n",
        "14  cheese  Mozzerella     rank        2.0\n"
       ]
      }
     ],
     "prompt_number": 29
    },
    {
     "cell_type": "code",
     "collapsed": false,
     "input": [
      "cheese = cheese.set_index(['product','type'])\n",
      "print cheese.head()"
     ],
     "language": "python",
     "metadata": {},
     "outputs": [
      {
       "output_type": "stream",
       "stream": "stdout",
       "text": [
        "                       prod  percent  rank\n",
        "product type                              \n",
        "cheese  American     794538     18.8     1\n",
        "        Italian     1348636     29.5     2\n",
        "        Muenster      50108     34.2     1\n",
        "        brick          3054     26.7     2\n",
        "        Mozzerella   898721     25.2     2\n"
       ]
      }
     ],
     "prompt_number": 30
    },
    {
     "cell_type": "code",
     "collapsed": false,
     "input": [
      "cheese_stack = cheese.stack()\n",
      "print cheese_stack.head()"
     ],
     "language": "python",
     "metadata": {},
     "outputs": [
      {
       "output_type": "stream",
       "stream": "stdout",
       "text": [
        "product  type             \n",
        "cheese   American  prod        794538.0\n",
        "                   percent         18.8\n",
        "                   rank             1.0\n",
        "         Italian   prod       1348636.0\n",
        "                   percent         29.5\n",
        "dtype: float64\n"
       ]
      }
     ],
     "prompt_number": 31
    },
    {
     "cell_type": "markdown",
     "metadata": {},
     "source": [
      "Accessing data with multi-index?"
     ]
    },
    {
     "cell_type": "code",
     "collapsed": false,
     "input": [
      "print type(cheese_stack)"
     ],
     "language": "python",
     "metadata": {},
     "outputs": [
      {
       "output_type": "stream",
       "stream": "stdout",
       "text": [
        "<class 'pandas.core.series.Series'>\n"
       ]
      }
     ],
     "prompt_number": 32
    },
    {
     "cell_type": "code",
     "collapsed": false,
     "input": [
      "for x in cheese_stack.index.values:\n",
      "    print x"
     ],
     "language": "python",
     "metadata": {},
     "outputs": [
      {
       "output_type": "stream",
       "stream": "stdout",
       "text": [
        "('cheese', 'American', 'prod')\n",
        "('cheese', 'American', 'percent')\n",
        "('cheese', 'American', 'rank')\n",
        "('cheese', 'Italian', 'prod')\n",
        "('cheese', 'Italian', 'percent')\n",
        "('cheese', 'Italian', 'rank')\n",
        "('cheese', 'Muenster', 'prod')\n",
        "('cheese', 'Muenster', 'percent')\n",
        "('cheese', 'Muenster', 'rank')\n",
        "('cheese', 'brick', 'prod')\n",
        "('cheese', 'brick', 'percent')\n",
        "('cheese', 'brick', 'rank')\n",
        "('cheese', 'Mozzerella', 'prod')\n",
        "('cheese', 'Mozzerella', 'percent')\n",
        "('cheese', 'Mozzerella', 'rank')\n"
       ]
      }
     ],
     "prompt_number": 33
    },
    {
     "cell_type": "code",
     "collapsed": false,
     "input": [
      "print cheese_stack.ix['cheese'].head()"
     ],
     "language": "python",
     "metadata": {},
     "outputs": [
      {
       "output_type": "stream",
       "stream": "stdout",
       "text": [
        "type             \n",
        "American  prod        794538.0\n",
        "          percent         18.8\n",
        "          rank             1.0\n",
        "Italian   prod       1348636.0\n",
        "          percent         29.5\n",
        "dtype: float64\n"
       ]
      }
     ],
     "prompt_number": 34
    },
    {
     "cell_type": "code",
     "collapsed": false,
     "input": [
      "print cheese_stack.ix['cheese']['brick'].head()"
     ],
     "language": "python",
     "metadata": {},
     "outputs": [
      {
       "output_type": "stream",
       "stream": "stdout",
       "text": [
        "prod       3054.0\n",
        "percent      26.7\n",
        "rank          2.0\n",
        "dtype: float64\n"
       ]
      }
     ],
     "prompt_number": 35
    },
    {
     "cell_type": "code",
     "collapsed": false,
     "input": [
      "print cheese_stack.ix['cheese']['brick']['rank']"
     ],
     "language": "python",
     "metadata": {},
     "outputs": [
      {
       "output_type": "stream",
       "stream": "stdout",
       "text": [
        "2.0\n"
       ]
      }
     ],
     "prompt_number": 39
    },
    {
     "cell_type": "markdown",
     "metadata": {},
     "source": [
      "### Back to DataFrame `reset_index` "
     ]
    },
    {
     "cell_type": "code",
     "collapsed": false,
     "input": [
      "print cheese_stack.reset_index().head()"
     ],
     "language": "python",
     "metadata": {},
     "outputs": [
      {
       "output_type": "stream",
       "stream": "stdout",
       "text": [
        "  product      type  level_2          0\n",
        "0  cheese  American     prod   794538.0\n",
        "1  cheese  American  percent       18.8\n",
        "2  cheese  American     rank        1.0\n",
        "3  cheese   Italian     prod  1348636.0\n",
        "4  cheese   Italian  percent       29.5\n"
       ]
      }
     ],
     "prompt_number": 40
    },
    {
     "cell_type": "markdown",
     "metadata": {},
     "source": [
      "We could rename the columns"
     ]
    },
    {
     "cell_type": "code",
     "collapsed": false,
     "input": [
      "print cheese_stack.reset_index().columns.values"
     ],
     "language": "python",
     "metadata": {},
     "outputs": [
      {
       "output_type": "stream",
       "stream": "stdout",
       "text": [
        "['product' 'type' 'level_2' 0]\n"
       ]
      }
     ],
     "prompt_number": 41
    },
    {
     "cell_type": "markdown",
     "metadata": {},
     "source": [
      "### unstack"
     ]
    },
    {
     "cell_type": "code",
     "collapsed": false,
     "input": [
      "print cheese_stack"
     ],
     "language": "python",
     "metadata": {},
     "outputs": [
      {
       "output_type": "stream",
       "stream": "stdout",
       "text": [
        "product  type               \n",
        "cheese   American    prod        794538.0\n",
        "                     percent         18.8\n",
        "                     rank             1.0\n",
        "         Italian     prod       1348636.0\n",
        "                     percent         29.5\n",
        "                     rank             2.0\n",
        "         Muenster    prod         50108.0\n",
        "                     percent         34.2\n",
        "                     rank             1.0\n",
        "         brick       prod          3054.0\n",
        "                     percent         26.7\n",
        "                     rank             2.0\n",
        "         Mozzerella  prod        898721.0\n",
        "                     percent         25.2\n",
        "                     rank             2.0\n",
        "dtype: float64\n"
       ]
      }
     ],
     "prompt_number": 42
    },
    {
     "cell_type": "code",
     "collapsed": false,
     "input": [
      "print cheese_stack.unstack().head()"
     ],
     "language": "python",
     "metadata": {},
     "outputs": [
      {
       "output_type": "stream",
       "stream": "stdout",
       "text": [
        "                       prod  percent  rank\n",
        "product type                              \n",
        "cheese  American     794538     18.8     1\n",
        "        Italian     1348636     29.5     2\n",
        "        Mozzerella   898721     25.2     2\n",
        "        Muenster      50108     34.2     1\n",
        "        brick          3054     26.7     2\n"
       ]
      }
     ],
     "prompt_number": 43
    },
    {
     "cell_type": "markdown",
     "metadata": {},
     "source": [
      "By default, it unstacks the **last level**."
     ]
    },
    {
     "cell_type": "code",
     "collapsed": false,
     "input": [
      "print cheese_stack.unstack(1).head()"
     ],
     "language": "python",
     "metadata": {},
     "outputs": [
      {
       "output_type": "stream",
       "stream": "stdout",
       "text": [
        "type             American    Italian  Mozzerella  Muenster   brick\n",
        "product                                                           \n",
        "cheese  prod     794538.0  1348636.0    898721.0   50108.0  3054.0\n",
        "        percent      18.8       29.5        25.2      34.2    26.7\n",
        "        rank          1.0        2.0         2.0       1.0     2.0\n"
       ]
      }
     ],
     "prompt_number": 44
    },
    {
     "cell_type": "code",
     "collapsed": false,
     "input": [
      "print cheese_stack.unstack().head()"
     ],
     "language": "python",
     "metadata": {},
     "outputs": [
      {
       "output_type": "stream",
       "stream": "stdout",
       "text": [
        "product              cheese\n",
        "type                       \n",
        "American prod      794538.0\n",
        "         percent       18.8\n",
        "         rank           1.0\n",
        "Italian  prod     1348636.0\n",
        "         percent       29.5\n"
       ]
      }
     ],
     "prompt_number": 45
    },
    {
     "cell_type": "code",
     "collapsed": false,
     "input": [
      "print cheese_stack.head()"
     ],
     "language": "python",
     "metadata": {},
     "outputs": [
      {
       "output_type": "stream",
       "stream": "stdout",
       "text": [
        "product  type             \n",
        "cheese   American  prod        794538.0\n",
        "                   percent         18.8\n",
        "                   rank             1.0\n",
        "         Italian   prod       1348636.0\n",
        "                   percent         29.5\n",
        "dtype: float64\n"
       ]
      }
     ],
     "prompt_number": 46
    },
    {
     "cell_type": "code",
     "collapsed": false,
     "input": [
      "print cheese_stack.unstack('type').head()"
     ],
     "language": "python",
     "metadata": {},
     "outputs": [
      {
       "output_type": "stream",
       "stream": "stdout",
       "text": [
        "type             American    Italian  Mozzerella  Muenster   brick\n",
        "product                                                           \n",
        "cheese  prod     794538.0  1348636.0    898721.0   50108.0  3054.0\n",
        "        percent      18.8       29.5        25.2      34.2    26.7\n",
        "        rank          1.0        2.0         2.0       1.0     2.0\n"
       ]
      }
     ],
     "prompt_number": 47
    },
    {
     "cell_type": "code",
     "collapsed": false,
     "input": [],
     "language": "python",
     "metadata": {},
     "outputs": []
    }
   ],
   "metadata": {}
  }
 ]
}